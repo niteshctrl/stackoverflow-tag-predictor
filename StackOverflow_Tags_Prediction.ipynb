{
  "nbformat": 4,
  "nbformat_minor": 0,
  "metadata": {
    "colab": {
      "name": "StackOverflow Tags Prediction",
      "provenance": [],
      "collapsed_sections": [],
      "toc_visible": true,
      "machine_shape": "hm",
      "include_colab_link": true
    },
    "kernelspec": {
      "name": "python3",
      "display_name": "Python 3"
    },
    "widgets": {
      "application/vnd.jupyter.widget-state+json": {
        "697e81163db4481581047eac90003756": {
          "model_module": "@jupyter-widgets/controls",
          "model_name": "HBoxModel",
          "state": {
            "_view_name": "HBoxView",
            "_dom_classes": [],
            "_model_name": "HBoxModel",
            "_view_module": "@jupyter-widgets/controls",
            "_model_module_version": "1.5.0",
            "_view_count": null,
            "_view_module_version": "1.5.0",
            "box_style": "",
            "layout": "IPY_MODEL_d2a5eac6083a4af6acab63dab6b9a845",
            "_model_module": "@jupyter-widgets/controls",
            "children": [
              "IPY_MODEL_d62250430b8d4b93b888519670b60bbe",
              "IPY_MODEL_d964309690fa497daba7f5f4b2b481fc"
            ]
          }
        },
        "d2a5eac6083a4af6acab63dab6b9a845": {
          "model_module": "@jupyter-widgets/base",
          "model_name": "LayoutModel",
          "state": {
            "_view_name": "LayoutView",
            "grid_template_rows": null,
            "right": null,
            "justify_content": null,
            "_view_module": "@jupyter-widgets/base",
            "overflow": null,
            "_model_module_version": "1.2.0",
            "_view_count": null,
            "flex_flow": null,
            "width": null,
            "min_width": null,
            "border": null,
            "align_items": null,
            "bottom": null,
            "_model_module": "@jupyter-widgets/base",
            "top": null,
            "grid_column": null,
            "overflow_y": null,
            "overflow_x": null,
            "grid_auto_flow": null,
            "grid_area": null,
            "grid_template_columns": null,
            "flex": null,
            "_model_name": "LayoutModel",
            "justify_items": null,
            "grid_row": null,
            "max_height": null,
            "align_content": null,
            "visibility": null,
            "align_self": null,
            "height": null,
            "min_height": null,
            "padding": null,
            "grid_auto_rows": null,
            "grid_gap": null,
            "max_width": null,
            "order": null,
            "_view_module_version": "1.2.0",
            "grid_template_areas": null,
            "object_position": null,
            "object_fit": null,
            "grid_auto_columns": null,
            "margin": null,
            "display": null,
            "left": null
          }
        },
        "d62250430b8d4b93b888519670b60bbe": {
          "model_module": "@jupyter-widgets/controls",
          "model_name": "FloatProgressModel",
          "state": {
            "_view_name": "ProgressView",
            "style": "IPY_MODEL_eb00951e0fb9472b9284d21d30dc89de",
            "_dom_classes": [],
            "description": "100%",
            "_model_name": "FloatProgressModel",
            "bar_style": "success",
            "max": 4206307,
            "_view_module": "@jupyter-widgets/controls",
            "_model_module_version": "1.5.0",
            "value": 4206307,
            "_view_count": null,
            "_view_module_version": "1.5.0",
            "orientation": "horizontal",
            "min": 0,
            "description_tooltip": null,
            "_model_module": "@jupyter-widgets/controls",
            "layout": "IPY_MODEL_8aeb7ca087714f70a5ad2a3cb30529ec"
          }
        },
        "d964309690fa497daba7f5f4b2b481fc": {
          "model_module": "@jupyter-widgets/controls",
          "model_name": "HTMLModel",
          "state": {
            "_view_name": "HTMLView",
            "style": "IPY_MODEL_561ffcd8c0d34558b51997b125ff9e52",
            "_dom_classes": [],
            "description": "",
            "_model_name": "HTMLModel",
            "placeholder": "​",
            "_view_module": "@jupyter-widgets/controls",
            "_model_module_version": "1.5.0",
            "value": " 4206307/4206307 [02:01&lt;00:00, 34521.27it/s]",
            "_view_count": null,
            "_view_module_version": "1.5.0",
            "description_tooltip": null,
            "_model_module": "@jupyter-widgets/controls",
            "layout": "IPY_MODEL_2c2a11cfeb0442d487e1d0194afb71dc"
          }
        },
        "eb00951e0fb9472b9284d21d30dc89de": {
          "model_module": "@jupyter-widgets/controls",
          "model_name": "ProgressStyleModel",
          "state": {
            "_view_name": "StyleView",
            "_model_name": "ProgressStyleModel",
            "description_width": "initial",
            "_view_module": "@jupyter-widgets/base",
            "_model_module_version": "1.5.0",
            "_view_count": null,
            "_view_module_version": "1.2.0",
            "bar_color": null,
            "_model_module": "@jupyter-widgets/controls"
          }
        },
        "8aeb7ca087714f70a5ad2a3cb30529ec": {
          "model_module": "@jupyter-widgets/base",
          "model_name": "LayoutModel",
          "state": {
            "_view_name": "LayoutView",
            "grid_template_rows": null,
            "right": null,
            "justify_content": null,
            "_view_module": "@jupyter-widgets/base",
            "overflow": null,
            "_model_module_version": "1.2.0",
            "_view_count": null,
            "flex_flow": null,
            "width": null,
            "min_width": null,
            "border": null,
            "align_items": null,
            "bottom": null,
            "_model_module": "@jupyter-widgets/base",
            "top": null,
            "grid_column": null,
            "overflow_y": null,
            "overflow_x": null,
            "grid_auto_flow": null,
            "grid_area": null,
            "grid_template_columns": null,
            "flex": null,
            "_model_name": "LayoutModel",
            "justify_items": null,
            "grid_row": null,
            "max_height": null,
            "align_content": null,
            "visibility": null,
            "align_self": null,
            "height": null,
            "min_height": null,
            "padding": null,
            "grid_auto_rows": null,
            "grid_gap": null,
            "max_width": null,
            "order": null,
            "_view_module_version": "1.2.0",
            "grid_template_areas": null,
            "object_position": null,
            "object_fit": null,
            "grid_auto_columns": null,
            "margin": null,
            "display": null,
            "left": null
          }
        },
        "561ffcd8c0d34558b51997b125ff9e52": {
          "model_module": "@jupyter-widgets/controls",
          "model_name": "DescriptionStyleModel",
          "state": {
            "_view_name": "StyleView",
            "_model_name": "DescriptionStyleModel",
            "description_width": "",
            "_view_module": "@jupyter-widgets/base",
            "_model_module_version": "1.5.0",
            "_view_count": null,
            "_view_module_version": "1.2.0",
            "_model_module": "@jupyter-widgets/controls"
          }
        },
        "2c2a11cfeb0442d487e1d0194afb71dc": {
          "model_module": "@jupyter-widgets/base",
          "model_name": "LayoutModel",
          "state": {
            "_view_name": "LayoutView",
            "grid_template_rows": null,
            "right": null,
            "justify_content": null,
            "_view_module": "@jupyter-widgets/base",
            "overflow": null,
            "_model_module_version": "1.2.0",
            "_view_count": null,
            "flex_flow": null,
            "width": null,
            "min_width": null,
            "border": null,
            "align_items": null,
            "bottom": null,
            "_model_module": "@jupyter-widgets/base",
            "top": null,
            "grid_column": null,
            "overflow_y": null,
            "overflow_x": null,
            "grid_auto_flow": null,
            "grid_area": null,
            "grid_template_columns": null,
            "flex": null,
            "_model_name": "LayoutModel",
            "justify_items": null,
            "grid_row": null,
            "max_height": null,
            "align_content": null,
            "visibility": null,
            "align_self": null,
            "height": null,
            "min_height": null,
            "padding": null,
            "grid_auto_rows": null,
            "grid_gap": null,
            "max_width": null,
            "order": null,
            "_view_module_version": "1.2.0",
            "grid_template_areas": null,
            "object_position": null,
            "object_fit": null,
            "grid_auto_columns": null,
            "margin": null,
            "display": null,
            "left": null
          }
        },
        "97a1c6fc8dbc4375a93f18a0707952c1": {
          "model_module": "@jupyter-widgets/controls",
          "model_name": "HBoxModel",
          "state": {
            "_view_name": "HBoxView",
            "_dom_classes": [],
            "_model_name": "HBoxModel",
            "_view_module": "@jupyter-widgets/controls",
            "_model_module_version": "1.5.0",
            "_view_count": null,
            "_view_module_version": "1.5.0",
            "box_style": "",
            "layout": "IPY_MODEL_946ed69172f04ca09f540f5c5ed91795",
            "_model_module": "@jupyter-widgets/controls",
            "children": [
              "IPY_MODEL_26d3a9b5e81e41f8b3486b81c0544bb7",
              "IPY_MODEL_69ecea7509e2483d8ca62441ef908fac"
            ]
          }
        },
        "946ed69172f04ca09f540f5c5ed91795": {
          "model_module": "@jupyter-widgets/base",
          "model_name": "LayoutModel",
          "state": {
            "_view_name": "LayoutView",
            "grid_template_rows": null,
            "right": null,
            "justify_content": null,
            "_view_module": "@jupyter-widgets/base",
            "overflow": null,
            "_model_module_version": "1.2.0",
            "_view_count": null,
            "flex_flow": null,
            "width": null,
            "min_width": null,
            "border": null,
            "align_items": null,
            "bottom": null,
            "_model_module": "@jupyter-widgets/base",
            "top": null,
            "grid_column": null,
            "overflow_y": null,
            "overflow_x": null,
            "grid_auto_flow": null,
            "grid_area": null,
            "grid_template_columns": null,
            "flex": null,
            "_model_name": "LayoutModel",
            "justify_items": null,
            "grid_row": null,
            "max_height": null,
            "align_content": null,
            "visibility": null,
            "align_self": null,
            "height": null,
            "min_height": null,
            "padding": null,
            "grid_auto_rows": null,
            "grid_gap": null,
            "max_width": null,
            "order": null,
            "_view_module_version": "1.2.0",
            "grid_template_areas": null,
            "object_position": null,
            "object_fit": null,
            "grid_auto_columns": null,
            "margin": null,
            "display": null,
            "left": null
          }
        },
        "26d3a9b5e81e41f8b3486b81c0544bb7": {
          "model_module": "@jupyter-widgets/controls",
          "model_name": "FloatProgressModel",
          "state": {
            "_view_name": "ProgressView",
            "style": "IPY_MODEL_6b7dde50346741a1a11748dd71204d9e",
            "_dom_classes": [],
            "description": "100%",
            "_model_name": "FloatProgressModel",
            "bar_style": "success",
            "max": 4206307,
            "_view_module": "@jupyter-widgets/controls",
            "_model_module_version": "1.5.0",
            "value": 4206307,
            "_view_count": null,
            "_view_module_version": "1.5.0",
            "orientation": "horizontal",
            "min": 0,
            "description_tooltip": null,
            "_model_module": "@jupyter-widgets/controls",
            "layout": "IPY_MODEL_89e29cd5a9de4365bc142e46aa0b0bd8"
          }
        },
        "69ecea7509e2483d8ca62441ef908fac": {
          "model_module": "@jupyter-widgets/controls",
          "model_name": "HTMLModel",
          "state": {
            "_view_name": "HTMLView",
            "style": "IPY_MODEL_feac285927b047f48547a7bb58abf09f",
            "_dom_classes": [],
            "description": "",
            "_model_name": "HTMLModel",
            "placeholder": "​",
            "_view_module": "@jupyter-widgets/controls",
            "_model_module_version": "1.5.0",
            "value": " 4206307/4206307 [01:01&lt;00:00, 68390.90it/s]",
            "_view_count": null,
            "_view_module_version": "1.5.0",
            "description_tooltip": null,
            "_model_module": "@jupyter-widgets/controls",
            "layout": "IPY_MODEL_a031760c473240409ff1bc7a2c3c6f81"
          }
        },
        "6b7dde50346741a1a11748dd71204d9e": {
          "model_module": "@jupyter-widgets/controls",
          "model_name": "ProgressStyleModel",
          "state": {
            "_view_name": "StyleView",
            "_model_name": "ProgressStyleModel",
            "description_width": "initial",
            "_view_module": "@jupyter-widgets/base",
            "_model_module_version": "1.5.0",
            "_view_count": null,
            "_view_module_version": "1.2.0",
            "bar_color": null,
            "_model_module": "@jupyter-widgets/controls"
          }
        },
        "89e29cd5a9de4365bc142e46aa0b0bd8": {
          "model_module": "@jupyter-widgets/base",
          "model_name": "LayoutModel",
          "state": {
            "_view_name": "LayoutView",
            "grid_template_rows": null,
            "right": null,
            "justify_content": null,
            "_view_module": "@jupyter-widgets/base",
            "overflow": null,
            "_model_module_version": "1.2.0",
            "_view_count": null,
            "flex_flow": null,
            "width": null,
            "min_width": null,
            "border": null,
            "align_items": null,
            "bottom": null,
            "_model_module": "@jupyter-widgets/base",
            "top": null,
            "grid_column": null,
            "overflow_y": null,
            "overflow_x": null,
            "grid_auto_flow": null,
            "grid_area": null,
            "grid_template_columns": null,
            "flex": null,
            "_model_name": "LayoutModel",
            "justify_items": null,
            "grid_row": null,
            "max_height": null,
            "align_content": null,
            "visibility": null,
            "align_self": null,
            "height": null,
            "min_height": null,
            "padding": null,
            "grid_auto_rows": null,
            "grid_gap": null,
            "max_width": null,
            "order": null,
            "_view_module_version": "1.2.0",
            "grid_template_areas": null,
            "object_position": null,
            "object_fit": null,
            "grid_auto_columns": null,
            "margin": null,
            "display": null,
            "left": null
          }
        },
        "feac285927b047f48547a7bb58abf09f": {
          "model_module": "@jupyter-widgets/controls",
          "model_name": "DescriptionStyleModel",
          "state": {
            "_view_name": "StyleView",
            "_model_name": "DescriptionStyleModel",
            "description_width": "",
            "_view_module": "@jupyter-widgets/base",
            "_model_module_version": "1.5.0",
            "_view_count": null,
            "_view_module_version": "1.2.0",
            "_model_module": "@jupyter-widgets/controls"
          }
        },
        "a031760c473240409ff1bc7a2c3c6f81": {
          "model_module": "@jupyter-widgets/base",
          "model_name": "LayoutModel",
          "state": {
            "_view_name": "LayoutView",
            "grid_template_rows": null,
            "right": null,
            "justify_content": null,
            "_view_module": "@jupyter-widgets/base",
            "overflow": null,
            "_model_module_version": "1.2.0",
            "_view_count": null,
            "flex_flow": null,
            "width": null,
            "min_width": null,
            "border": null,
            "align_items": null,
            "bottom": null,
            "_model_module": "@jupyter-widgets/base",
            "top": null,
            "grid_column": null,
            "overflow_y": null,
            "overflow_x": null,
            "grid_auto_flow": null,
            "grid_area": null,
            "grid_template_columns": null,
            "flex": null,
            "_model_name": "LayoutModel",
            "justify_items": null,
            "grid_row": null,
            "max_height": null,
            "align_content": null,
            "visibility": null,
            "align_self": null,
            "height": null,
            "min_height": null,
            "padding": null,
            "grid_auto_rows": null,
            "grid_gap": null,
            "max_width": null,
            "order": null,
            "_view_module_version": "1.2.0",
            "grid_template_areas": null,
            "object_position": null,
            "object_fit": null,
            "grid_auto_columns": null,
            "margin": null,
            "display": null,
            "left": null
          }
        },
        "950e611e79284d6ba7aa0f33eaa9b603": {
          "model_module": "@jupyter-widgets/controls",
          "model_name": "HBoxModel",
          "state": {
            "_view_name": "HBoxView",
            "_dom_classes": [],
            "_model_name": "HBoxModel",
            "_view_module": "@jupyter-widgets/controls",
            "_model_module_version": "1.5.0",
            "_view_count": null,
            "_view_module_version": "1.5.0",
            "box_style": "",
            "layout": "IPY_MODEL_43628e40a66042e4ad2d02fa362278b3",
            "_model_module": "@jupyter-widgets/controls",
            "children": [
              "IPY_MODEL_f051c8b7a3f649388b3dad32152268f0",
              "IPY_MODEL_77a6f05f584645f49268a19bad83043b"
            ]
          }
        },
        "43628e40a66042e4ad2d02fa362278b3": {
          "model_module": "@jupyter-widgets/base",
          "model_name": "LayoutModel",
          "state": {
            "_view_name": "LayoutView",
            "grid_template_rows": null,
            "right": null,
            "justify_content": null,
            "_view_module": "@jupyter-widgets/base",
            "overflow": null,
            "_model_module_version": "1.2.0",
            "_view_count": null,
            "flex_flow": null,
            "width": null,
            "min_width": null,
            "border": null,
            "align_items": null,
            "bottom": null,
            "_model_module": "@jupyter-widgets/base",
            "top": null,
            "grid_column": null,
            "overflow_y": null,
            "overflow_x": null,
            "grid_auto_flow": null,
            "grid_area": null,
            "grid_template_columns": null,
            "flex": null,
            "_model_name": "LayoutModel",
            "justify_items": null,
            "grid_row": null,
            "max_height": null,
            "align_content": null,
            "visibility": null,
            "align_self": null,
            "height": null,
            "min_height": null,
            "padding": null,
            "grid_auto_rows": null,
            "grid_gap": null,
            "max_width": null,
            "order": null,
            "_view_module_version": "1.2.0",
            "grid_template_areas": null,
            "object_position": null,
            "object_fit": null,
            "grid_auto_columns": null,
            "margin": null,
            "display": null,
            "left": null
          }
        },
        "f051c8b7a3f649388b3dad32152268f0": {
          "model_module": "@jupyter-widgets/controls",
          "model_name": "FloatProgressModel",
          "state": {
            "_view_name": "ProgressView",
            "style": "IPY_MODEL_93fb4469be45439eac0d43940b8b05b1",
            "_dom_classes": [],
            "description": "100%",
            "_model_name": "FloatProgressModel",
            "bar_style": "success",
            "max": 500000,
            "_view_module": "@jupyter-widgets/controls",
            "_model_module_version": "1.5.0",
            "value": 500000,
            "_view_count": null,
            "_view_module_version": "1.5.0",
            "orientation": "horizontal",
            "min": 0,
            "description_tooltip": null,
            "_model_module": "@jupyter-widgets/controls",
            "layout": "IPY_MODEL_0ac9bea70ea84649837935cfd6424034"
          }
        },
        "77a6f05f584645f49268a19bad83043b": {
          "model_module": "@jupyter-widgets/controls",
          "model_name": "HTMLModel",
          "state": {
            "_view_name": "HTMLView",
            "style": "IPY_MODEL_8d94abf2f74f4e1a9dd71362c6118d7c",
            "_dom_classes": [],
            "description": "",
            "_model_name": "HTMLModel",
            "placeholder": "​",
            "_view_module": "@jupyter-widgets/controls",
            "_model_module_version": "1.5.0",
            "value": " 500000/500000 [02:22&lt;00:00, 3497.49it/s]",
            "_view_count": null,
            "_view_module_version": "1.5.0",
            "description_tooltip": null,
            "_model_module": "@jupyter-widgets/controls",
            "layout": "IPY_MODEL_24a173b3829b40be8c71ac95d1e44129"
          }
        },
        "93fb4469be45439eac0d43940b8b05b1": {
          "model_module": "@jupyter-widgets/controls",
          "model_name": "ProgressStyleModel",
          "state": {
            "_view_name": "StyleView",
            "_model_name": "ProgressStyleModel",
            "description_width": "initial",
            "_view_module": "@jupyter-widgets/base",
            "_model_module_version": "1.5.0",
            "_view_count": null,
            "_view_module_version": "1.2.0",
            "bar_color": null,
            "_model_module": "@jupyter-widgets/controls"
          }
        },
        "0ac9bea70ea84649837935cfd6424034": {
          "model_module": "@jupyter-widgets/base",
          "model_name": "LayoutModel",
          "state": {
            "_view_name": "LayoutView",
            "grid_template_rows": null,
            "right": null,
            "justify_content": null,
            "_view_module": "@jupyter-widgets/base",
            "overflow": null,
            "_model_module_version": "1.2.0",
            "_view_count": null,
            "flex_flow": null,
            "width": null,
            "min_width": null,
            "border": null,
            "align_items": null,
            "bottom": null,
            "_model_module": "@jupyter-widgets/base",
            "top": null,
            "grid_column": null,
            "overflow_y": null,
            "overflow_x": null,
            "grid_auto_flow": null,
            "grid_area": null,
            "grid_template_columns": null,
            "flex": null,
            "_model_name": "LayoutModel",
            "justify_items": null,
            "grid_row": null,
            "max_height": null,
            "align_content": null,
            "visibility": null,
            "align_self": null,
            "height": null,
            "min_height": null,
            "padding": null,
            "grid_auto_rows": null,
            "grid_gap": null,
            "max_width": null,
            "order": null,
            "_view_module_version": "1.2.0",
            "grid_template_areas": null,
            "object_position": null,
            "object_fit": null,
            "grid_auto_columns": null,
            "margin": null,
            "display": null,
            "left": null
          }
        },
        "8d94abf2f74f4e1a9dd71362c6118d7c": {
          "model_module": "@jupyter-widgets/controls",
          "model_name": "DescriptionStyleModel",
          "state": {
            "_view_name": "StyleView",
            "_model_name": "DescriptionStyleModel",
            "description_width": "",
            "_view_module": "@jupyter-widgets/base",
            "_model_module_version": "1.5.0",
            "_view_count": null,
            "_view_module_version": "1.2.0",
            "_model_module": "@jupyter-widgets/controls"
          }
        },
        "24a173b3829b40be8c71ac95d1e44129": {
          "model_module": "@jupyter-widgets/base",
          "model_name": "LayoutModel",
          "state": {
            "_view_name": "LayoutView",
            "grid_template_rows": null,
            "right": null,
            "justify_content": null,
            "_view_module": "@jupyter-widgets/base",
            "overflow": null,
            "_model_module_version": "1.2.0",
            "_view_count": null,
            "flex_flow": null,
            "width": null,
            "min_width": null,
            "border": null,
            "align_items": null,
            "bottom": null,
            "_model_module": "@jupyter-widgets/base",
            "top": null,
            "grid_column": null,
            "overflow_y": null,
            "overflow_x": null,
            "grid_auto_flow": null,
            "grid_area": null,
            "grid_template_columns": null,
            "flex": null,
            "_model_name": "LayoutModel",
            "justify_items": null,
            "grid_row": null,
            "max_height": null,
            "align_content": null,
            "visibility": null,
            "align_self": null,
            "height": null,
            "min_height": null,
            "padding": null,
            "grid_auto_rows": null,
            "grid_gap": null,
            "max_width": null,
            "order": null,
            "_view_module_version": "1.2.0",
            "grid_template_areas": null,
            "object_position": null,
            "object_fit": null,
            "grid_auto_columns": null,
            "margin": null,
            "display": null,
            "left": null
          }
        }
      }
    }
  },
  "cells": [
    {
      "cell_type": "markdown",
      "metadata": {
        "id": "view-in-github",
        "colab_type": "text"
      },
      "source": [
        "<a href=\"https://colab.research.google.com/github/niteshctrl/stackoverflow-tags/blob/master/StackOverflow_Tags_Prediction.ipynb\" target=\"_parent\"><img src=\"https://colab.research.google.com/assets/colab-badge.svg\" alt=\"Open In Colab\"/></a>"
      ]
    },
    {
      "cell_type": "markdown",
      "metadata": {
        "id": "P_dhzr6r8ctf",
        "colab_type": "text"
      },
      "source": [
        "# STACKOVERFLOW TAGS PEDICTION\n",
        "# Table of Contents\n",
        "\n",
        "0. [Introduction](#section0)\n",
        "1. [Data Set Up](#section1)\n",
        "2. [Data Cleaning - I](#section2)\n",
        "3. [Exploratory Data Analysis](#section3)\n",
        "4. [Data Cleaning - II and Preprocessing](#section4)\n",
        "5. [Model Exploration](#section5)\n",
        "6. [Results and Conclusion](#section6)"
      ]
    },
    {
      "cell_type": "markdown",
      "metadata": {
        "id": "p_v2jJAc5mQn",
        "colab_type": "text"
      },
      "source": [
        "# 0 Introduction\n",
        "\n",
        "### `Task:`\n",
        "Predict the tags (a.k.a. keywords, topics, summaries), given only the question text and its title. The dataset contains content from disparate stack exchange sites, containing a mix of both technical and non-technical questions.\n",
        "\n",
        "### `Evaluation Metric:`\n",
        "The evaluation metric for this project is Mean F1-Score.  The F1 score, commonly used in information retrieval, measures accuracy using the statistics precision P and recall R. Precision is the ratio of true positives (TP) to all predicted positives (TP + FP). Recall is the ratio of true positives to all actual positives (TP + FN). The F1 score is given by:\n",
        "\n",
        "> F1=2PR / (P + R)\n",
        "\n",
        "The F1 metric weights recall and precision equally, and a good retrieval algorithm will maximize both precision and recall simultaneously. Thus, moderately good performance on both will be favored over extremely good performance on one and poor performance on the other.\n",
        "\n",
        "The tag predicted must be an exact match, regardless of whether the tags are synonyms. \n",
        "\n",
        "* **Why aren't synonyms counted?**\n",
        "\n",
        "1. Giving out a list of candidate synonyms is a potential source of leakage\n",
        "2. Synonyms are subjective, and there are \"subjectively many\" synonyms for a given tag\n",
        "3. Equally penalized for predicting a synonym of a correct tag, so the task can be framed as not only predicting a tag, but also modeling the distribution(s) of potential synonyms\n",
        "\n",
        "## Data Description:\n",
        "Train.csv contains 4 columns: Id,Title,Body,Tags\n",
        "\n",
        "1. Id - Unique identifier for each question\n",
        "2. Title - The question's title\n",
        "3. Body - The body of the question\n",
        "4. Tags - The tags associated with the question (all lowercase, should not contain tabs '\\t' or ampersands '&')\n",
        "---\n",
        "\n",
        "Ref : https://medium.com/datadriveninvestor/predicting-tags-for-the-questions-in-stack-overflow-29438367261e"
      ]
    },
    {
      "cell_type": "markdown",
      "metadata": {
        "id": "Nv2lXY5f_mxu",
        "colab_type": "text"
      },
      "source": [
        "<a class=\"anchor\" id=\"sec\"></a>\n",
        "# 1 Data Set Up"
      ]
    },
    {
      "cell_type": "code",
      "metadata": {
        "id": "_HLom6kI9hph",
        "colab_type": "code",
        "colab": {
          "base_uri": "https://localhost:8080/",
          "height": 34
        },
        "outputId": "183f1609-9a96-41d8-e2d1-a6c8a5a071ae"
      },
      "source": [
        "# Connecting Google Drive\n",
        "\n",
        "from google.colab import drive\n",
        "drive.mount('/content/gdrive/')"
      ],
      "execution_count": null,
      "outputs": [
        {
          "output_type": "stream",
          "text": [
            "Mounted at /content/gdrive/\n"
          ],
          "name": "stdout"
        }
      ]
    },
    {
      "cell_type": "code",
      "metadata": {
        "id": "sVino2wpSevs",
        "colab_type": "code",
        "colab": {
          "base_uri": "https://localhost:8080/",
          "height": 85
        },
        "outputId": "c7417e08-de49-4848-bf32-dd1d1150c284"
      },
      "source": [
        "# Installing library for expanding contractions during Preprocessing\n",
        "\n",
        "!pip install contractions"
      ],
      "execution_count": null,
      "outputs": [
        {
          "output_type": "stream",
          "text": [
            "Requirement already satisfied: contractions in /usr/local/lib/python3.6/dist-packages (0.0.25)\n",
            "Requirement already satisfied: textsearch in /usr/local/lib/python3.6/dist-packages (from contractions) (0.0.17)\n",
            "Requirement already satisfied: pyahocorasick in /usr/local/lib/python3.6/dist-packages (from textsearch->contractions) (1.4.0)\n",
            "Requirement already satisfied: Unidecode in /usr/local/lib/python3.6/dist-packages (from textsearch->contractions) (1.1.1)\n"
          ],
          "name": "stdout"
        }
      ]
    },
    {
      "cell_type": "code",
      "metadata": {
        "id": "PzhGZhkQ7YWM",
        "colab_type": "code",
        "colab": {
          "base_uri": "https://localhost:8080/",
          "height": 71
        },
        "outputId": "f5f49cdf-06d5-4d4c-a6f6-369f7ae0df29"
      },
      "source": [
        "# Importing Libraries\n",
        "\n",
        "import sqlite3\n",
        "import numpy as np\n",
        "import pandas as pd\n",
        "import seaborn as sns\n",
        "from tqdm.notebook import tqdm\n",
        "from wordcloud import WordCloud\n",
        "import matplotlib.pyplot as plt\n",
        "\n",
        "# Preprocessing Libraries\n",
        "import re\n",
        "import nltk\n",
        "import contractions                     # Use pycontractions in future uses\n",
        "from nltk.corpus import stopwords\n",
        "from sklearn.preprocessing import StandardScaler\n",
        "from nltk.stem import SnowballStemmer\n",
        "from nltk.tokenize import word_tokenize\n",
        "\n",
        "# Featurization Libraries\n",
        "import scipy.sparse as sp\n",
        "from scipy.sparse import hstack\n",
        "from sklearn.model_selection import train_test_split\n",
        "from sklearn.feature_extraction.text import CountVectorizer\n",
        "from sklearn.feature_extraction.text import TfidfVectorizer\n",
        "\n",
        "# Modeling Libraries\n",
        "from sklearn.svm import SVC\n",
        "from sklearn.pipeline import Pipeline\n",
        "from sklearn.linear_model import SGDClassifier\n",
        "from sklearn.multiclass import OneVsRestClassifier\n",
        "from sklearn.linear_model import LogisticRegression\n",
        "\n",
        "\n",
        "# Metrics Libraries\n",
        "from sklearn.metrics import log_loss\n",
        "from sklearn.metrics import f1_score\n",
        "from sklearn.metrics import accuracy_score\n"
      ],
      "execution_count": null,
      "outputs": [
        {
          "output_type": "stream",
          "text": [
            "/usr/local/lib/python3.6/dist-packages/statsmodels/tools/_testing.py:19: FutureWarning: pandas.util.testing is deprecated. Use the functions in the public API at pandas.testing instead.\n",
            "  import pandas.util.testing as tm\n"
          ],
          "name": "stderr"
        }
      ]
    },
    {
      "cell_type": "code",
      "metadata": {
        "id": "ryubiyuhdLE6",
        "colab_type": "code",
        "colab": {
          "base_uri": "https://localhost:8080/",
          "height": 102
        },
        "outputId": "86b850ea-d945-400f-f918-0777530dfe09"
      },
      "source": [
        "# Downloading Required NLTK data\n",
        "\n",
        "nltk.download('punkt')          # For Tokenization\n",
        "nltk.download('stopwords')      # Set of Stopwords"
      ],
      "execution_count": null,
      "outputs": [
        {
          "output_type": "stream",
          "text": [
            "[nltk_data] Downloading package punkt to /root/nltk_data...\n",
            "[nltk_data]   Package punkt is already up-to-date!\n",
            "[nltk_data] Downloading package stopwords to /root/nltk_data...\n",
            "[nltk_data]   Package stopwords is already up-to-date!\n"
          ],
          "name": "stdout"
        },
        {
          "output_type": "execute_result",
          "data": {
            "text/plain": [
              "True"
            ]
          },
          "metadata": {
            "tags": []
          },
          "execution_count": 3
        }
      ]
    },
    {
      "cell_type": "code",
      "metadata": {
        "id": "NdTtgSWgRKwP",
        "colab_type": "code",
        "colab": {}
      },
      "source": [
        "pd.set_option('display.max_colwidth', 80)"
      ],
      "execution_count": null,
      "outputs": []
    },
    {
      "cell_type": "code",
      "metadata": {
        "id": "7utmOEgv_p2v",
        "colab_type": "code",
        "colab": {
          "base_uri": "https://localhost:8080/",
          "height": 52
        },
        "outputId": "29e61ff9-df7a-4a0e-dfb8-0bcbfa6550fe"
      },
      "source": [
        "# Extracting the ZIP data files in Google Drive\n",
        "\"\"\"\n",
        "!unzip /content/gdrive/My\\ Drive/datasets/stacko/Train.zip -d /content/gdrive/My\\ Drive/datasets/stacko/\n",
        "!unzip /content/gdrive/My\\ Drive/datasets/stacko/Test.zip -d /content/gdrive/My\\ Drive/datasets/stacko\"\"\""
      ],
      "execution_count": null,
      "outputs": [
        {
          "output_type": "execute_result",
          "data": {
            "application/vnd.google.colaboratory.intrinsic+json": {
              "type": "string"
            },
            "text/plain": [
              "'\\n!unzip /content/gdrive/My\\\\ Drive/datasets/stacko/Train.zip -d /content/gdrive/My\\\\ Drive/datasets/stacko/\\n!unzip /content/gdrive/My\\\\ Drive/datasets/stacko/Test.zip -d /content/gdrive/My\\\\ Drive/datasets/stacko'"
            ]
          },
          "metadata": {
            "tags": []
          },
          "execution_count": 6
        }
      ]
    },
    {
      "cell_type": "code",
      "metadata": {
        "id": "qG27Uv3pB7Bv",
        "colab_type": "code",
        "colab": {}
      },
      "source": [
        "# Loading the data from Google Drive into PANDAS Dataframe\n",
        "\n",
        "data = pd.read_csv('/content/gdrive/My Drive/datasets/stacko/Train.csv')"
      ],
      "execution_count": null,
      "outputs": []
    },
    {
      "cell_type": "markdown",
      "metadata": {
        "id": "iydzvKPhGthu",
        "colab_type": "text"
      },
      "source": [
        "# 2 Data Cleaning I\n",
        "\n",
        "1. Duplicate Removal\n",
        "2. NULL Values Check\n",
        "3. Empty String Check"
      ]
    },
    {
      "cell_type": "markdown",
      "metadata": {
        "id": "Cz0PWtRnrFm0",
        "colab_type": "text"
      },
      "source": [
        "## 2.1 Duplicates Removal"
      ]
    },
    {
      "cell_type": "code",
      "metadata": {
        "id": "nUFd5cfm-4iv",
        "colab_type": "code",
        "colab": {
          "base_uri": "https://localhost:8080/",
          "height": 204
        },
        "outputId": "9374dffc-e1b1-4f7d-dee2-42c7ecd1499b"
      },
      "source": [
        "# View of the DataFrame\n",
        "\n",
        "data.head()"
      ],
      "execution_count": null,
      "outputs": [
        {
          "output_type": "execute_result",
          "data": {
            "text/html": [
              "<div>\n",
              "<style scoped>\n",
              "    .dataframe tbody tr th:only-of-type {\n",
              "        vertical-align: middle;\n",
              "    }\n",
              "\n",
              "    .dataframe tbody tr th {\n",
              "        vertical-align: top;\n",
              "    }\n",
              "\n",
              "    .dataframe thead th {\n",
              "        text-align: right;\n",
              "    }\n",
              "</style>\n",
              "<table border=\"1\" class=\"dataframe\">\n",
              "  <thead>\n",
              "    <tr style=\"text-align: right;\">\n",
              "      <th></th>\n",
              "      <th>Id</th>\n",
              "      <th>Title</th>\n",
              "      <th>Body</th>\n",
              "      <th>Tags</th>\n",
              "    </tr>\n",
              "  </thead>\n",
              "  <tbody>\n",
              "    <tr>\n",
              "      <th>0</th>\n",
              "      <td>1</td>\n",
              "      <td>How to check if an uploaded file is an image without mime type?</td>\n",
              "      <td>&lt;p&gt;I'd like to check if an uploaded file is an image file (e.g png, jpg, jpe...</td>\n",
              "      <td>php image-processing file-upload upload mime-types</td>\n",
              "    </tr>\n",
              "    <tr>\n",
              "      <th>1</th>\n",
              "      <td>2</td>\n",
              "      <td>How can I prevent firefox from closing when I press ctrl-w</td>\n",
              "      <td>&lt;p&gt;In my favorite editor (vim), I regularly use ctrl-w to execute a certain ...</td>\n",
              "      <td>firefox</td>\n",
              "    </tr>\n",
              "    <tr>\n",
              "      <th>2</th>\n",
              "      <td>3</td>\n",
              "      <td>R Error Invalid type (list) for variable</td>\n",
              "      <td>&lt;p&gt;I am import matlab file and construct a data frame, matlab file contains ...</td>\n",
              "      <td>r matlab machine-learning</td>\n",
              "    </tr>\n",
              "    <tr>\n",
              "      <th>3</th>\n",
              "      <td>4</td>\n",
              "      <td>How do I replace special characters in a URL?</td>\n",
              "      <td>&lt;p&gt;This is probably very simple, but I simply cannot find the answer myself ...</td>\n",
              "      <td>c# url encoding</td>\n",
              "    </tr>\n",
              "    <tr>\n",
              "      <th>4</th>\n",
              "      <td>5</td>\n",
              "      <td>How to modify whois contact details?</td>\n",
              "      <td>&lt;pre&gt;&lt;code&gt;function modify(.......)\\n{\\n  $mcontact = file_get_contents( \"ht...</td>\n",
              "      <td>php api file-get-contents</td>\n",
              "    </tr>\n",
              "  </tbody>\n",
              "</table>\n",
              "</div>"
            ],
            "text/plain": [
              "   Id  ...                                                Tags\n",
              "0   1  ...  php image-processing file-upload upload mime-types\n",
              "1   2  ...                                             firefox\n",
              "2   3  ...                           r matlab machine-learning\n",
              "3   4  ...                                     c# url encoding\n",
              "4   5  ...                           php api file-get-contents\n",
              "\n",
              "[5 rows x 4 columns]"
            ]
          },
          "metadata": {
            "tags": []
          },
          "execution_count": 8
        }
      ]
    },
    {
      "cell_type": "code",
      "metadata": {
        "id": "K5K9_UZX5xch",
        "colab_type": "code",
        "colab": {
          "base_uri": "https://localhost:8080/",
          "height": 68
        },
        "outputId": "74f98c78-0d46-4001-eeaa-d0e27bbb8a6b"
      },
      "source": [
        "# Check for duplicates\n",
        "\n",
        "data[['Title','Body','Tags']].duplicated().value_counts()"
      ],
      "execution_count": null,
      "outputs": [
        {
          "output_type": "execute_result",
          "data": {
            "text/plain": [
              "False    4206314\n",
              "True     1827881\n",
              "dtype: int64"
            ]
          },
          "metadata": {
            "tags": []
          },
          "execution_count": 9
        }
      ]
    },
    {
      "cell_type": "markdown",
      "metadata": {
        "id": "8sFLOElM9Rb3",
        "colab_type": "text"
      },
      "source": [
        "---\n",
        "\n",
        "> **There are 1827881 'True' values implying 1.8M duplicate rows.**\n",
        "\n",
        "---\n",
        "---"
      ]
    },
    {
      "cell_type": "code",
      "metadata": {
        "id": "pbZagD3DEmyu",
        "colab_type": "code",
        "colab": {
          "base_uri": "https://localhost:8080/",
          "height": 187
        },
        "outputId": "9ab47598-0509-407e-9aa9-754ced668c31"
      },
      "source": [
        "# Duplicate Removal\n",
        "\n",
        "data_no_dup = data[['Title','Body','Tags']].drop_duplicates(ignore_index=True)\n",
        "data_no_dup.info()"
      ],
      "execution_count": null,
      "outputs": [
        {
          "output_type": "stream",
          "text": [
            "<class 'pandas.core.frame.DataFrame'>\n",
            "RangeIndex: 4206314 entries, 0 to 4206313\n",
            "Data columns (total 3 columns):\n",
            " #   Column  Dtype \n",
            "---  ------  ----- \n",
            " 0   Title   object\n",
            " 1   Body    object\n",
            " 2   Tags    object\n",
            "dtypes: object(3)\n",
            "memory usage: 96.3+ MB\n"
          ],
          "name": "stdout"
        }
      ]
    },
    {
      "cell_type": "markdown",
      "metadata": {
        "id": "MrSNnzdyE7v_",
        "colab_type": "text"
      },
      "source": [
        "---\n",
        "\n",
        "> **We are now left with only 4206314 (4.2M) rows which is a reduction of ~30% data rows!!**\n",
        "\n",
        "---\n",
        "---"
      ]
    },
    {
      "cell_type": "markdown",
      "metadata": {
        "id": "9q5EePqGrK1v",
        "colab_type": "text"
      },
      "source": [
        "## 2.2 NULL Values Removal"
      ]
    },
    {
      "cell_type": "code",
      "metadata": {
        "id": "aPQ20oxbdBqL",
        "colab_type": "code",
        "colab": {
          "base_uri": "https://localhost:8080/",
          "height": 238
        },
        "outputId": "9e923837-b0f0-4a60-9328-a44c754ca7ba"
      },
      "source": [
        "# NULL Value Check\n",
        "\n",
        "for column in data_no_dup.columns:\n",
        "    print(\"NULL Value check for Column '{}' is\\n {}\\n\".format(column, data_no_dup[column].isnull().value_counts()))"
      ],
      "execution_count": null,
      "outputs": [
        {
          "output_type": "stream",
          "text": [
            "NULL Value check for Column 'Title' is\n",
            " False    4206314\n",
            "Name: Title, dtype: int64\n",
            "\n",
            "NULL Value check for Column 'Body' is\n",
            " False    4206314\n",
            "Name: Body, dtype: int64\n",
            "\n",
            "NULL Value check for Column 'Tags' is\n",
            " False    4206307\n",
            "True           7\n",
            "Name: Tags, dtype: int64\n",
            "\n"
          ],
          "name": "stdout"
        }
      ]
    },
    {
      "cell_type": "markdown",
      "metadata": {
        "id": "MEXo_ZKKecrU",
        "colab_type": "text"
      },
      "source": [
        "---\n",
        "\n",
        "> **Observe there exists 7 Null Values in 'Tags' column. We will be investigating it further.**\n",
        "\n",
        "---\n",
        "---"
      ]
    },
    {
      "cell_type": "code",
      "metadata": {
        "id": "m7Cr_2YlezRA",
        "colab_type": "code",
        "colab": {
          "base_uri": "https://localhost:8080/",
          "height": 266
        },
        "outputId": "f1576657-1c40-40ce-c6cc-fbdedcfc283e"
      },
      "source": [
        "# View of rows with Null Values in 'Tags' column\n",
        "\n",
        "data_no_dup[data_no_dup['Tags'].isnull()]"
      ],
      "execution_count": null,
      "outputs": [
        {
          "output_type": "execute_result",
          "data": {
            "text/html": [
              "<div>\n",
              "<style scoped>\n",
              "    .dataframe tbody tr th:only-of-type {\n",
              "        vertical-align: middle;\n",
              "    }\n",
              "\n",
              "    .dataframe tbody tr th {\n",
              "        vertical-align: top;\n",
              "    }\n",
              "\n",
              "    .dataframe thead th {\n",
              "        text-align: right;\n",
              "    }\n",
              "</style>\n",
              "<table border=\"1\" class=\"dataframe\">\n",
              "  <thead>\n",
              "    <tr style=\"text-align: right;\">\n",
              "      <th></th>\n",
              "      <th>Title</th>\n",
              "      <th>Body</th>\n",
              "      <th>Tags</th>\n",
              "    </tr>\n",
              "  </thead>\n",
              "  <tbody>\n",
              "    <tr>\n",
              "      <th>850166</th>\n",
              "      <td>Do we really need NULL?</td>\n",
              "      <td>&lt;blockquote&gt;\\n  &lt;p&gt;&lt;strong&gt;Possible Duplicate:&lt;/strong&gt;&lt;br&gt;\\n  &lt;a href=\"http...</td>\n",
              "      <td>NaN</td>\n",
              "    </tr>\n",
              "    <tr>\n",
              "      <th>971049</th>\n",
              "      <td>Page cannot be null. Please ensure that this operation is being performed in...</td>\n",
              "      <td>&lt;p&gt;I get this error when i remove dynamically telerik raddock and raddock zo...</td>\n",
              "      <td>NaN</td>\n",
              "    </tr>\n",
              "    <tr>\n",
              "      <th>1347475</th>\n",
              "      <td>How do Germans call null</td>\n",
              "      <td>&lt;p&gt;In german null means 0, so how do they call null (like null reference) ?&lt;...</td>\n",
              "      <td>NaN</td>\n",
              "    </tr>\n",
              "    <tr>\n",
              "      <th>1722409</th>\n",
              "      <td>What is the difference between NULL and \"0\"?</td>\n",
              "      <td>&lt;p&gt;What is the difference from NULL and \"0\"?&lt;/p&gt;\\n\\n&lt;p&gt;Example:&lt;/p&gt;\\n\\n&lt;pre&gt;...</td>\n",
              "      <td>NaN</td>\n",
              "    </tr>\n",
              "    <tr>\n",
              "      <th>2241942</th>\n",
              "      <td>a bit of difference between null and space</td>\n",
              "      <td>&lt;p&gt;I was just reading this quote&lt;/p&gt;\\n\\n&lt;blockquote&gt;\\n  &lt;p&gt;And don't tell me...</td>\n",
              "      <td>NaN</td>\n",
              "    </tr>\n",
              "    <tr>\n",
              "      <th>2647070</th>\n",
              "      <td>Handle NullObjects</td>\n",
              "      <td>&lt;p&gt;I have done quite a bit of research on best ways to deal with null object...</td>\n",
              "      <td>NaN</td>\n",
              "    </tr>\n",
              "    <tr>\n",
              "      <th>3241110</th>\n",
              "      <td>Find all values that are not null and not in another table</td>\n",
              "      <td>&lt;p&gt;I am running into a problem which results in an ORA-01722 error.  I have ...</td>\n",
              "      <td>NaN</td>\n",
              "    </tr>\n",
              "  </tbody>\n",
              "</table>\n",
              "</div>"
            ],
            "text/plain": [
              "                                                                                   Title  ... Tags\n",
              "850166                                                           Do we really need NULL?  ...  NaN\n",
              "971049   Page cannot be null. Please ensure that this operation is being performed in...  ...  NaN\n",
              "1347475                                                         How do Germans call null  ...  NaN\n",
              "1722409                                     What is the difference between NULL and \"0\"?  ...  NaN\n",
              "2241942                                       a bit of difference between null and space  ...  NaN\n",
              "2647070                                                               Handle NullObjects  ...  NaN\n",
              "3241110                       Find all values that are not null and not in another table  ...  NaN\n",
              "\n",
              "[7 rows x 3 columns]"
            ]
          },
          "metadata": {
            "tags": []
          },
          "execution_count": 40
        }
      ]
    },
    {
      "cell_type": "markdown",
      "metadata": {
        "id": "IzTouET5iXw0",
        "colab_type": "text"
      },
      "source": [
        "---\n",
        "\n",
        "> **Observe that the corresponding title with Tags = NaN contain the word 'NULL' asking for some information that is related to NULL values. We now investigate further if there exists 'NULL' as a tag to some question.**\n",
        "\n",
        "---\n",
        "---"
      ]
    },
    {
      "cell_type": "code",
      "metadata": {
        "id": "qwZl7BGZhpGY",
        "colab_type": "code",
        "colab": {
          "base_uri": "https://localhost:8080/",
          "height": 153
        },
        "outputId": "2ac4a40a-70f1-423c-e110-49705b040493"
      },
      "source": [
        "# Checking if Null is a tag\n",
        "\n",
        "print((data_no_dup['Tags'] == 'Null').value_counts())\n",
        "print((data_no_dup['Tags'] == 'NULL').value_counts())\n",
        "print((data_no_dup['Tags'] == 'null').value_counts())\n",
        "print((data_no_dup['Tags'] == 'none').value_counts())"
      ],
      "execution_count": null,
      "outputs": [
        {
          "output_type": "stream",
          "text": [
            "False    4206314\n",
            "Name: Tags, dtype: int64\n",
            "False    4206314\n",
            "Name: Tags, dtype: int64\n",
            "False    4206314\n",
            "Name: Tags, dtype: int64\n",
            "False    4206314\n",
            "Name: Tags, dtype: int64\n"
          ],
          "name": "stdout"
        }
      ]
    },
    {
      "cell_type": "markdown",
      "metadata": {
        "id": "Osl7pJuZjGLR",
        "colab_type": "text"
      },
      "source": [
        "--- \n",
        "> **Since none of the tags contain Null as a tag, removing the above seven questions from our data would serve as it's a very small fraction of the entire dataset.**\n",
        "\n",
        "---\n",
        "---"
      ]
    },
    {
      "cell_type": "code",
      "metadata": {
        "id": "swJx-pQikLnN",
        "colab_type": "code",
        "colab": {
          "base_uri": "https://localhost:8080/",
          "height": 51
        },
        "outputId": "657ef07a-1a65-409e-a3e5-d8d7237db490"
      },
      "source": [
        "# Removing Rows with NULL value in Tags\n",
        "\n",
        "data_no_dup = data_no_dup[data_no_dup['Tags'].notnull()]\n",
        "\n",
        "\n",
        "# Final Check if Null has been removed successfully\n",
        "print(data_no_dup['Tags'].isnull().value_counts())"
      ],
      "execution_count": null,
      "outputs": [
        {
          "output_type": "stream",
          "text": [
            "False    4206307\n",
            "Name: Tags, dtype: int64\n"
          ],
          "name": "stdout"
        }
      ]
    },
    {
      "cell_type": "markdown",
      "metadata": {
        "id": "KLlTOIEh-0zF",
        "colab_type": "text"
      },
      "source": [
        "# 3 Exploratory Data Analysis\n",
        "\n",
        "1. Univariate Analysis\n",
        "2. Multivariate Analysis"
      ]
    },
    {
      "cell_type": "code",
      "metadata": {
        "colab_type": "code",
        "id": "MUUgimeanP4V",
        "colab": {
          "base_uri": "https://localhost:8080/",
          "height": 204
        },
        "outputId": "736a0ccc-24c5-413f-c91f-55daddcaf82d"
      },
      "source": [
        "data_no_dup.head()"
      ],
      "execution_count": null,
      "outputs": [
        {
          "output_type": "execute_result",
          "data": {
            "text/html": [
              "<div>\n",
              "<style scoped>\n",
              "    .dataframe tbody tr th:only-of-type {\n",
              "        vertical-align: middle;\n",
              "    }\n",
              "\n",
              "    .dataframe tbody tr th {\n",
              "        vertical-align: top;\n",
              "    }\n",
              "\n",
              "    .dataframe thead th {\n",
              "        text-align: right;\n",
              "    }\n",
              "</style>\n",
              "<table border=\"1\" class=\"dataframe\">\n",
              "  <thead>\n",
              "    <tr style=\"text-align: right;\">\n",
              "      <th></th>\n",
              "      <th>Title</th>\n",
              "      <th>Body</th>\n",
              "      <th>Tags</th>\n",
              "    </tr>\n",
              "  </thead>\n",
              "  <tbody>\n",
              "    <tr>\n",
              "      <th>0</th>\n",
              "      <td>How to check if an uploaded file is an image without mime type?</td>\n",
              "      <td>&lt;p&gt;I'd like to check if an uploaded file is an image file (e.g png, jpg, jpeg, gif, bmp) or anot...</td>\n",
              "      <td>php image-processing file-upload upload mime-types</td>\n",
              "    </tr>\n",
              "    <tr>\n",
              "      <th>1</th>\n",
              "      <td>How can I prevent firefox from closing when I press ctrl-w</td>\n",
              "      <td>&lt;p&gt;In my favorite editor (vim), I regularly use ctrl-w to execute a certain action. Now, it quit...</td>\n",
              "      <td>firefox</td>\n",
              "    </tr>\n",
              "    <tr>\n",
              "      <th>2</th>\n",
              "      <td>R Error Invalid type (list) for variable</td>\n",
              "      <td>&lt;p&gt;I am import matlab file and construct a data frame, matlab file contains two columns with and...</td>\n",
              "      <td>r matlab machine-learning</td>\n",
              "    </tr>\n",
              "    <tr>\n",
              "      <th>3</th>\n",
              "      <td>How do I replace special characters in a URL?</td>\n",
              "      <td>&lt;p&gt;This is probably very simple, but I simply cannot find the answer myself :( &lt;/p&gt;\\n\\n&lt;p&gt;Basica...</td>\n",
              "      <td>c# url encoding</td>\n",
              "    </tr>\n",
              "    <tr>\n",
              "      <th>4</th>\n",
              "      <td>How to modify whois contact details?</td>\n",
              "      <td>&lt;pre&gt;&lt;code&gt;function modify(.......)\\n{\\n  $mcontact = file_get_contents( \"https://test.httpapi.c...</td>\n",
              "      <td>php api file-get-contents</td>\n",
              "    </tr>\n",
              "  </tbody>\n",
              "</table>\n",
              "</div>"
            ],
            "text/plain": [
              "                                                             Title  ...                                                Tags\n",
              "0  How to check if an uploaded file is an image without mime type?  ...  php image-processing file-upload upload mime-types\n",
              "1       How can I prevent firefox from closing when I press ctrl-w  ...                                             firefox\n",
              "2                         R Error Invalid type (list) for variable  ...                           r matlab machine-learning\n",
              "3                    How do I replace special characters in a URL?  ...                                     c# url encoding\n",
              "4                             How to modify whois contact details?  ...                           php api file-get-contents\n",
              "\n",
              "[5 rows x 3 columns]"
            ]
          },
          "metadata": {
            "tags": []
          },
          "execution_count": 15
        }
      ]
    },
    {
      "cell_type": "code",
      "metadata": {
        "id": "Q-XsDEqfEnEp",
        "colab_type": "code",
        "colab": {
          "base_uri": "https://localhost:8080/",
          "height": 187
        },
        "outputId": "81b65899-196e-4f96-ece3-f4478e55966a"
      },
      "source": [
        "data_no_dup.info()"
      ],
      "execution_count": null,
      "outputs": [
        {
          "output_type": "stream",
          "text": [
            "<class 'pandas.core.frame.DataFrame'>\n",
            "Int64Index: 4206307 entries, 0 to 4206313\n",
            "Data columns (total 3 columns):\n",
            " #   Column  Dtype \n",
            "---  ------  ----- \n",
            " 0   Title   object\n",
            " 1   Body    object\n",
            " 2   Tags    object\n",
            "dtypes: object(3)\n",
            "memory usage: 128.4+ MB\n"
          ],
          "name": "stdout"
        }
      ]
    },
    {
      "cell_type": "markdown",
      "metadata": {
        "id": "IfnLTPS45A7a",
        "colab_type": "text"
      },
      "source": [
        "---\n",
        "> **Number of rows = 4206307 ( 4.2M)**\n",
        "\n",
        "---\n",
        "---"
      ]
    },
    {
      "cell_type": "code",
      "metadata": {
        "id": "gM_879tZnnL-",
        "colab_type": "code",
        "colab": {}
      },
      "source": [
        "# Total number of datapoints to consider for sample in all below references\n",
        "\n",
        "datapoints = 4206307"
      ],
      "execution_count": null,
      "outputs": []
    },
    {
      "cell_type": "code",
      "metadata": {
        "id": "4FwC0KTHp3WR",
        "colab_type": "code",
        "colab": {
          "base_uri": "https://localhost:8080/",
          "height": 697
        },
        "outputId": "0d1813c7-9dce-434e-8f06-0619b8687135"
      },
      "source": [
        "# Check a few Title datapoints\n",
        "\n",
        "for i in range(20):\n",
        "    print(data_no_dup['Title'].iloc[i])\n",
        "    print('------------------------------------------------')"
      ],
      "execution_count": null,
      "outputs": [
        {
          "output_type": "stream",
          "text": [
            "How to check if an uploaded file is an image without mime type?\n",
            "------------------------------------------------\n",
            "How can I prevent firefox from closing when I press ctrl-w\n",
            "------------------------------------------------\n",
            "R Error Invalid type (list) for variable\n",
            "------------------------------------------------\n",
            "How do I replace special characters in a URL?\n",
            "------------------------------------------------\n",
            "How to modify whois contact details?\n",
            "------------------------------------------------\n",
            "setting proxy in active directory environment\n",
            "------------------------------------------------\n",
            "How to draw barplot in this way with Coreplot\n",
            "------------------------------------------------\n",
            "How to fetch an XML feed using asp.net\n",
            "------------------------------------------------\n",
            ".NET library for generating javascript?\n",
            "------------------------------------------------\n",
            "SQL Server : procedure call, inline concatenation impossible?\n",
            "------------------------------------------------\n",
            "How do commercial obfuscators achieve to crash .net Reflector and ILDASM?\n",
            "------------------------------------------------\n",
            "Crappy Random Number Generator\n",
            "------------------------------------------------\n",
            "Migrate from Mdaemon to postfix\n",
            "------------------------------------------------\n",
            "Where can I find the LaTeX3 manual?\n",
            "------------------------------------------------\n",
            "Can I stop windows 7 from fading windows on alt-tab?\n",
            "------------------------------------------------\n",
            "PHP framework URL conventions\n",
            "------------------------------------------------\n",
            "What creates \".rds\" temporary files in R?\n",
            "------------------------------------------------\n",
            "WPF: multiple controls binding to same property\n",
            "------------------------------------------------\n",
            "Play framework auto javascript and CSS minifier\n",
            "------------------------------------------------\n",
            "Creating a repetitive node from a hash array with simplexml_load_string, a cycle and variables\n",
            "------------------------------------------------\n"
          ],
          "name": "stdout"
        }
      ]
    },
    {
      "cell_type": "code",
      "metadata": {
        "id": "w_i6S_nNdQfr",
        "colab_type": "code",
        "colab": {
          "base_uri": "https://localhost:8080/",
          "height": 1000
        },
        "outputId": "ffd58f5e-845d-47b8-c923-f283666af935"
      },
      "source": [
        "# Check a few Body datapoints\n",
        "\n",
        "for i in range(11, 16):\n",
        "    print(data_no_dup['Body'].iloc[i])\n",
        "    print(\"------------------------------------------------\")\n",
        "    print(\"------------------------------------------------\")"
      ],
      "execution_count": null,
      "outputs": [
        {
          "output_type": "stream",
          "text": [
            "<p>This may sound like an odd question, but where can I find a random number generator that works in C or C++ that is not very good?</p>\n",
            "\n",
            "<p>Context: I'm creating some tree graph plotting software and testing it by using multi-digit random numbers (so each digit becomes a node in the tree). The random number generator I've been using - which is the one that comes with the GNU C++ compiler - gives me a nice spread of values. That's good, but I want to see how the table looks when the numbers clump together and are less homogenous. </p>\n",
            "\n",
            "<p>Can anyone suggest a random number generator that has been proven to be not-so-random?</p>\n",
            "\n",
            "<p>(Oh, any anyone who links to xkcd and/or suggests I just return 4 will get sarcasm in response).</p>\n",
            "\n",
            "------------------------------------------------\n",
            "------------------------------------------------\n",
            "<p>how can I move Inbox/Sent/Draft from Mdaemon to postfix?\n",
            "<br/>\n",
            "is there any automatic way? </p>\n",
            "\n",
            "------------------------------------------------\n",
            "------------------------------------------------\n",
            "<p>Few month ago I saw a big pdf-manual of all LaTeX3-packages and the new syntax. I think it was bigger than 300 pages. I can't find it on the web. </p>\n",
            "\n",
            "<p>Does anyone have a link?</p>\n",
            "\n",
            "------------------------------------------------\n",
            "------------------------------------------------\n",
            "<p>When you hit alt tab on windows 7 and stop for a second on a window, it hides all other windows.  Is there any way to tell Windows 7 to use the old classic behavior?</p>\n",
            "\n",
            "------------------------------------------------\n",
            "------------------------------------------------\n",
            "<p>A lot of frameworks use URL conventions like <code>/controller/action/{id}</code> which is great, but if you need any configuration beyond that, it's up to you to write your own routes.</p>\n",
            "\n",
            "<p>How would you handle URLs like <code>/users/{id}/friends</code> on the backend? (to list all of a user's friends)</p>\n",
            "\n",
            "<p>I'm thinking that in the controller, something like this would be appropriate:</p>\n",
            "\n",
            "<pre><code>class User {\n",
            "    function index() {\n",
            "        echo 'user index';\n",
            "    }\n",
            "}\n",
            "\n",
            "class Friend extends User {\n",
            "    function index($user_id) {\n",
            "        echo 'friend index';\n",
            "    }    \n",
            "}\n",
            "</code></pre>\n",
            "\n",
            "<p>Then you would have the following map:</p>\n",
            "\n",
            "<pre><code>/users              -&gt; User::index()\n",
            "/users/{id}         -&gt; User::view($id)\n",
            "/users/{id}/friends -&gt; Friend::index($user_id)\n",
            "</code></pre>\n",
            "\n",
            "<p>I wanted to put the Friend class inside the User class but apparently you can't do that in PHP so this is the best I could come up with. Thoughts?</p>\n",
            "\n",
            "<p>What URL would use for editing your list of friends? <code>/users/{id}/friends/edit</code> could work, but it doesn't seem appropriate, since you should never be editing someone else's friend list. Would <code>/account/friends/edit</code> be a better choice? Where would you put the corresponding code for that? In a friend controller, or a user controller, or a specialized account controller?</p>\n",
            "\n",
            "<p>Bonus question: which do you prefer? <code>/photos/delete/{id}</code> or <code>/photos/{id}/delete</code></p>\n",
            "\n",
            "<p><hr /></p>\n",
            "\n",
            "<p><strong>The answers:</strong></p>\n",
            "\n",
            "<p>So, what I've gathered from the answers is that if the \"thing\" is complicated (like \"friends\") but doesn't have its own controller, you can give it one without a model, or if it's not, you should stuff it in with whatever it's most closely related to. Your URLs should not influence where you put your code. Most people seem to think you should stick to <code>/controller/action/{id}</code> whever possible, because it's what people are familiar with.</p>\n",
            "\n",
            "<p>No one really commented on the extended class aside from saying it's \"awkward\". Perhaps FriendList would have been a more appropriate class in that case if I really wanted to separate it out.</p>\n",
            "\n",
            "<p>Thanks for all the answers :)</p>\n",
            "\n",
            "------------------------------------------------\n",
            "------------------------------------------------\n"
          ],
          "name": "stdout"
        }
      ]
    },
    {
      "cell_type": "markdown",
      "metadata": {
        "id": "I_48TfqUfPdx",
        "colab_type": "text"
      },
      "source": [
        "---\n",
        "> **It follows that numerals would be of little use in predictions and they will be damaging more than doing good as the population of numerals is very high in Body without significant predictive power. So we will be removing them in preprocessing stage.**\n",
        "\n",
        "> **C# which is the highest occuring tag has the symbol '#' which should not be ommited during preprocessing as it is the only distinctive element between C# and C. Similarly '+' for C++. And again, '.'  in \"asp.net\" and \".NET\"**\n",
        "\n",
        "> **Another thing worth noting is that users generally write their keyword of concern in capital letters. Ex - PHP vs php, .NET vs .net, C# vs c#, XML vs xml, R vs r, LaTeX vs latex, CSS vs css, and many more. However, the word 'I' should be ommited in such observations. We can repeat the words in capital letters during featurization to put on more weight to them.**\n",
        "\n",
        "> **The section \"\"\"<code.>...<./code>\"\"\" could be of immense use in predictions as it contains the code of a programming language and it is enough alone to predict the tag(if programing language) but needs to be tested as it could be noisy too owing to very often large codes containing keywords like 'string', 'return', etc which is common to most of the programming languages.**\n",
        "\n",
        "TBD: \n",
        "* Uppercase Repeatation\n",
        "* Numeral Removal\n",
        "* Not tokenize C#\n",
        "* Remove Code sections(Uncertain)\n",
        "\n",
        "---\n",
        "---"
      ]
    },
    {
      "cell_type": "markdown",
      "metadata": {
        "id": "oecs63jqpKo-",
        "colab_type": "text"
      },
      "source": [
        "## 3.1 Univariate Analysis"
      ]
    },
    {
      "cell_type": "code",
      "metadata": {
        "id": "IpAt_AklZmGM",
        "colab_type": "code",
        "colab": {
          "base_uri": "https://localhost:8080/",
          "height": 66,
          "referenced_widgets": [
            "697e81163db4481581047eac90003756",
            "d2a5eac6083a4af6acab63dab6b9a845",
            "d62250430b8d4b93b888519670b60bbe",
            "d964309690fa497daba7f5f4b2b481fc",
            "eb00951e0fb9472b9284d21d30dc89de",
            "8aeb7ca087714f70a5ad2a3cb30529ec",
            "561ffcd8c0d34558b51997b125ff9e52",
            "2c2a11cfeb0442d487e1d0194afb71dc"
          ]
        },
        "outputId": "f4b9b50f-4c08-40ed-a7b7-cf853313a44e"
      },
      "source": [
        "# Calculate number of spaces in each title which will define it's Word Count\n",
        "\n",
        "title_word_length = []\n",
        "for i in tqdm(range(datapoints)):\n",
        "    title_word_length.append(data_no_dup['Title'].iloc[i].count(\" \") + 1)"
      ],
      "execution_count": null,
      "outputs": [
        {
          "output_type": "display_data",
          "data": {
            "application/vnd.jupyter.widget-view+json": {
              "model_id": "697e81163db4481581047eac90003756",
              "version_minor": 0,
              "version_major": 2
            },
            "text/plain": [
              "HBox(children=(FloatProgress(value=0.0, max=4206307.0), HTML(value='')))"
            ]
          },
          "metadata": {
            "tags": []
          }
        },
        {
          "output_type": "stream",
          "text": [
            "\n"
          ],
          "name": "stdout"
        }
      ]
    },
    {
      "cell_type": "code",
      "metadata": {
        "id": "TX68q6G4WdHS",
        "colab_type": "code",
        "colab": {
          "base_uri": "https://localhost:8080/",
          "height": 276
        },
        "outputId": "957890ec-888c-4d93-b814-69d004925394"
      },
      "source": [
        "# Distribution of Title Word length\n",
        "\n",
        "plt.hist(length_title, bins = 38)\n",
        "plt.show()"
      ],
      "execution_count": null,
      "outputs": [
        {
          "output_type": "display_data",
          "data": {
            "image/png": "[encoded data removed]",
            "text/plain": [
              "<Figure size 432x288 with 1 Axes>"
            ]
          },
          "metadata": {
            "tags": [],
            "needs_background": "light"
          }
        }
      ]
    },
    {
      "cell_type": "markdown",
      "metadata": {
        "id": "kf8uVxiPhn04",
        "colab_type": "text"
      },
      "source": [
        "---\n",
        "> **Most of the titles are in the range of 5-10 words as evident from the distribtion plot. Since, the body is composed of both natural text and programming code, we will skip this analysis on 'Body' as codes could be very lengthly and non-meaningful for analysis**\n",
        "\n",
        "---\n",
        "---"
      ]
    },
    {
      "cell_type": "code",
      "metadata": {
        "id": "kKCPrBI0m-oz",
        "colab_type": "code",
        "colab": {
          "base_uri": "https://localhost:8080/",
          "height": 66,
          "referenced_widgets": [
            "97a1c6fc8dbc4375a93f18a0707952c1",
            "946ed69172f04ca09f540f5c5ed91795",
            "26d3a9b5e81e41f8b3486b81c0544bb7",
            "69ecea7509e2483d8ca62441ef908fac",
            "6b7dde50346741a1a11748dd71204d9e",
            "89e29cd5a9de4365bc142e46aa0b0bd8",
            "feac285927b047f48547a7bb58abf09f",
            "a031760c473240409ff1bc7a2c3c6f81"
          ]
        },
        "outputId": "de58bb51-0ae4-4186-ecc7-1fb85abae25e"
      },
      "source": [
        "# Number of tags in each row of data\n",
        "\n",
        "row_tag_count = []\n",
        "for i in tqdm(range(datapoints)):\n",
        "    row_tag_count.append(data_no_dup['Tags'].iloc[i].count(\" \") + 1)"
      ],
      "execution_count": null,
      "outputs": [
        {
          "output_type": "display_data",
          "data": {
            "application/vnd.jupyter.widget-view+json": {
              "model_id": "97a1c6fc8dbc4375a93f18a0707952c1",
              "version_minor": 0,
              "version_major": 2
            },
            "text/plain": [
              "HBox(children=(FloatProgress(value=0.0, max=4206307.0), HTML(value='')))"
            ]
          },
          "metadata": {
            "tags": []
          }
        },
        {
          "output_type": "stream",
          "text": [
            "\n"
          ],
          "name": "stdout"
        }
      ]
    },
    {
      "cell_type": "code",
      "metadata": {
        "id": "OUFGLJMWoaAE",
        "colab_type": "code",
        "colab": {
          "base_uri": "https://localhost:8080/",
          "height": 119
        },
        "outputId": "099e34ec-fa21-4a3b-df82-cec84fc23d22"
      },
      "source": [
        "pd.Series(row_tag_count).value_counts()"
      ],
      "execution_count": null,
      "outputs": [
        {
          "output_type": "execute_result",
          "data": {
            "text/plain": [
              "3    1206157\n",
              "2    1111706\n",
              "4     814996\n",
              "1     568290\n",
              "5     505158\n",
              "dtype: int64"
            ]
          },
          "metadata": {
            "tags": []
          },
          "execution_count": 55
        }
      ]
    },
    {
      "cell_type": "code",
      "metadata": {
        "id": "bq0j7cFcoIrR",
        "colab_type": "code",
        "colab": {
          "base_uri": "https://localhost:8080/",
          "height": 331
        },
        "outputId": "414fb2ee-0ef1-4663-d583-97088bbfb67c"
      },
      "source": [
        "# Distribution of tag counts in each row\n",
        "\n",
        "plt.figure(figsize=(5,5))\n",
        "plt.hist(row_tag_count, bins = 20)\n",
        "plt.show()"
      ],
      "execution_count": null,
      "outputs": [
        {
          "output_type": "display_data",
          "data": {
            "image/png": "[encoded data removed]",
            "text/plain": [
              "<Figure size 360x360 with 1 Axes>"
            ]
          },
          "metadata": {
            "tags": [],
            "needs_background": "light"
          }
        }
      ]
    },
    {
      "cell_type": "markdown",
      "metadata": {
        "id": "AuPdM6u6op_M",
        "colab_type": "text"
      },
      "source": [
        "---\n",
        "> **Minimum number of tag associated to a row is 1 and maximum is 5. Most  of the rows have 3 tags followed by 2 tags and then 4 tags.**\n",
        "\n",
        "---\n",
        "---"
      ]
    },
    {
      "cell_type": "code",
      "metadata": {
        "id": "3n2jwSIkqkO1",
        "colab_type": "code",
        "colab": {
          "base_uri": "https://localhost:8080/",
          "height": 221
        },
        "outputId": "02df67d7-283a-499f-f9a6-902a378e66bc"
      },
      "source": [
        "# Unique tags and their frequency of occurence\n",
        "\n",
        "tags = []\n",
        "for i in data_no_dup['Tags']:\n",
        "    try:\n",
        "        tags.extend(i.split())\n",
        "    except:\n",
        "        continue\n",
        "\n",
        "print(pd.Series(tags).value_counts())"
      ],
      "execution_count": null,
      "outputs": [
        {
          "output_type": "stream",
          "text": [
            "c#            331505\n",
            "java          299414\n",
            "php           284103\n",
            "javascript    265423\n",
            "android       235436\n",
            "               ...  \n",
            "mkpolygon          1\n",
            "chartjs            1\n",
            "transifex          1\n",
            "moqcontrib         1\n",
            "pvpython           1\n",
            "Length: 42048, dtype: int64\n"
          ],
          "name": "stdout"
        }
      ]
    },
    {
      "cell_type": "markdown",
      "metadata": {
        "id": "nTfL-w2GuPAV",
        "colab_type": "text"
      },
      "source": [
        "---\n",
        "> **There are 42048 unique tags in total. Training 42048 models each for a tag will not be an easy task neither scalable too. NOTE: Herefrom, we will be calling c# as Tag 1, java as Tag 2 and so forth in decreasing order of their occurences for ease of plotting.**\n",
        "\n",
        "---\n",
        "---"
      ]
    },
    {
      "cell_type": "code",
      "metadata": {
        "id": "EIRQO7TC5ppC",
        "colab_type": "code",
        "colab": {
          "base_uri": "https://localhost:8080/",
          "height": 404
        },
        "outputId": "8bc685f4-9de2-4414-c5d6-b7f9b9f09d1c"
      },
      "source": [
        "# Tag Frequency of occurence VS Tag Number(label)\n",
        "\n",
        "plt.figure(figsize=(10,6))\n",
        "\n",
        "# Plotting\n",
        "plt.plot(y)\n",
        "\n",
        "# Defining Axes\n",
        "plt.xlabel(\"Tag Number in desc order of frequency\")\n",
        "plt.ylabel(\"Frequency of Occurence of tag\")\n",
        "\n",
        "# Defining Title\n",
        "plt.title(\"Tag Frequency of occurence VS Tag Number(label)\")\n",
        "\n",
        "plt.grid()\n",
        "plt.show()"
      ],
      "execution_count": null,
      "outputs": [
        {
          "output_type": "display_data",
          "data": {
            "image/png": "[encoded data removed]",
            "text/plain": [
              "<Figure size 720x432 with 1 Axes>"
            ]
          },
          "metadata": {
            "tags": [],
            "needs_background": "light"
          }
        }
      ]
    },
    {
      "cell_type": "code",
      "metadata": {
        "id": "4ieNUwvd8y_4",
        "colab_type": "code",
        "colab": {
          "base_uri": "https://localhost:8080/",
          "height": 374
        },
        "outputId": "a8bad492-1886-47f1-e931-6dd0221fe247"
      },
      "source": [
        "# Box Plot \n",
        "\n",
        "plt.figure(figsize=(10,6))\n",
        "\n",
        "plt.boxplot(y)\n",
        "plt.show()"
      ],
      "execution_count": null,
      "outputs": [
        {
          "output_type": "display_data",
          "data": {
            "image/png": "[encoded data removed]",
            "text/plain": [
              "<Figure size 720x432 with 1 Axes>"
            ]
          },
          "metadata": {
            "tags": [],
            "needs_background": "light"
          }
        }
      ]
    },
    {
      "cell_type": "markdown",
      "metadata": {
        "id": "uJ5GFyvBqdYj",
        "colab_type": "text"
      },
      "source": [
        "---\n",
        "> **The above two plots shows highly skewed data i.e. most of the datapoints are covered by a few bunch of Tags whose occurence is quite high. We will investigate further if the less occuring tags can be ommited to reduce the pain of training additional models.**\n",
        "\n",
        "---\n",
        "---\n"
      ]
    },
    {
      "cell_type": "code",
      "metadata": {
        "id": "ySr-Dgw_pwHH",
        "colab_type": "code",
        "colab": {
          "base_uri": "https://localhost:8080/",
          "height": 374
        },
        "outputId": "f5a0ed6b-36e6-4bac-a152-bb86a4fa5b8b"
      },
      "source": [
        "# Bar Plot of top 20 tags in descending order of occurence\n",
        "\n",
        "plt.figure(figsize=(16,6))\n",
        "plt.bar(pd.Series(tags).value_counts().index.values[:20], pd.Series(tags).value_counts()[:20])\n",
        "plt.show()"
      ],
      "execution_count": null,
      "outputs": [
        {
          "output_type": "display_data",
          "data": {
            "image/png": "[encoded data removed]",
            "text/plain": [
              "<Figure size 1152x432 with 1 Axes>"
            ]
          },
          "metadata": {
            "tags": [],
            "needs_background": "light"
          }
        }
      ]
    },
    {
      "cell_type": "code",
      "metadata": {
        "id": "6QGo6ZT-fOUs",
        "colab_type": "code",
        "colab": {
          "base_uri": "https://localhost:8080/",
          "height": 404
        },
        "outputId": "2a1c7a95-a4cb-43d9-abd8-cae234db296a"
      },
      "source": [
        "# CDF of tags\n",
        "\n",
        "plt.figure(figsize=(10,6))\n",
        "\n",
        "# Plotting\n",
        "plt.plot(np.cumsum(y)/12195947*100)\n",
        "\n",
        "# Defining Title\n",
        "plt.title('CDF')\n",
        "\n",
        "#Defing Axes\n",
        "plt.xlabel('Tag Number in desc order of frequency')\n",
        "plt.ylabel('Percentage of dataset covered')\n",
        "\n",
        "plt.grid()\n",
        "plt.show()"
      ],
      "execution_count": null,
      "outputs": [
        {
          "output_type": "display_data",
          "data": {
            "image/png": "[encoded data removed]",
            "text/plain": [
              "<Figure size 720x432 with 1 Axes>"
            ]
          },
          "metadata": {
            "tags": [],
            "needs_background": "light"
          }
        }
      ]
    },
    {
      "cell_type": "code",
      "metadata": {
        "id": "kCQ4CzH7dvH0",
        "colab_type": "code",
        "colab": {
          "base_uri": "https://localhost:8080/",
          "height": 85
        },
        "outputId": "a3c38bd5-7ec6-4f51-dce0-34a51afcaab7"
      },
      "source": [
        "print(\"80% of the data is concentrated on {} tags\".format(np.where((np.cumsum(y)/12195947 < 0.80) == False)[0][0]))\n",
        "print(\"90% of the data is concentrated on {} tags\".format(np.where((np.cumsum(y)/12195947 < 0.90) == False)[0][0]))\n",
        "print(\"95% of the data is concentrated on {} tags\".format(np.where((np.cumsum(y)/12195947 < 0.95) == False)[0][0]))\n",
        "print(\"99% of the data is concentrated on {} tags\".format(np.where((np.cumsum(y)/12195947 < 0.99) == False)[0][0]))"
      ],
      "execution_count": null,
      "outputs": [
        {
          "output_type": "stream",
          "text": [
            "80% of the data is concentrated on 1885 tags\n",
            "90% of the data is concentrated on 4699 tags\n",
            "95% of the data is concentrated on 8946 tags\n",
            "99% of the data is concentrated on 21577 tags\n"
          ],
          "name": "stdout"
        }
      ]
    },
    {
      "cell_type": "markdown",
      "metadata": {
        "id": "YiETqtwMsI05",
        "colab_type": "text"
      },
      "source": [
        "---\n",
        "> **Finally concluding that just 4699 tags of 42K cover a whopping 90% of the data!!! Training additional 37K models to cover just 10% of the data will be too expensive and we will be ommiting this during modelling.**\n",
        "\n",
        "TBD:\n",
        "* Train on maximum of 95% tags.\n",
        "\n",
        "---\n",
        "---"
      ]
    },
    {
      "cell_type": "code",
      "metadata": {
        "id": "vi256DXsJyxC",
        "colab_type": "code",
        "colab": {}
      },
      "source": [
        "# WordCloud function\n",
        "\n",
        "def _plot_wcloud(list_words):\n",
        "    # Ref: https://towardsdatascience.com/simple-wordcloud-in-python-2ae54a9f58e5\n",
        "    wc = WordCloud(width=1000, height=700, stopwords = {'dummy'})\n",
        "    wc.generate(list_words)\n",
        "    \n",
        "    plt.figure(figsize=(10,6))\n",
        "    plt.imshow(wc)\n",
        "    plt.axis('off')\n",
        "    plt.show()"
      ],
      "execution_count": null,
      "outputs": []
    },
    {
      "cell_type": "code",
      "metadata": {
        "id": "OksmkJhTH55Q",
        "colab_type": "code",
        "colab": {}
      },
      "source": [
        "# Prepare a single string of 'Tags' to plot WordCloud\n",
        "\n",
        "tags_str = ' '.join(s for s in tags)"
      ],
      "execution_count": null,
      "outputs": []
    },
    {
      "cell_type": "code",
      "metadata": {
        "id": "Vgb-3QSP085q",
        "colab_type": "code",
        "colab": {
          "base_uri": "https://localhost:8080/",
          "height": 357
        },
        "outputId": "b05ab1ef-eea5-4b27-b9d9-4ec63fa70bcc"
      },
      "source": [
        "_plot_wcloud(tags_str)"
      ],
      "execution_count": null,
      "outputs": [
        {
          "output_type": "display_data",
          "data": {
            "image/png": "[encoded data removed]",
            "text/plain": [
              "<Figure size 720x432 with 1 Axes>"
            ]
          },
          "metadata": {
            "tags": [],
            "needs_background": "light"
          }
        }
      ]
    },
    {
      "cell_type": "markdown",
      "metadata": {
        "id": "gQ8iMenP5VFL",
        "colab_type": "text"
      },
      "source": [
        "---\n",
        "> **This wordcloud looks ambigous. c#, java and many more, the highest occuring tags are dominated by other tags in the word cloud whose occurance is lower than them.**\n",
        "\n",
        "---\n",
        "---\n"
      ]
    },
    {
      "cell_type": "code",
      "metadata": {
        "id": "vWx5AsFGL56V",
        "colab_type": "code",
        "colab": {
          "base_uri": "https://localhost:8080/",
          "height": 544
        },
        "outputId": "dd10c091-7431-42b3-fc7b-476c41f24166"
      },
      "source": [
        "# Top 30 Tag cells by their frequency of occurence\n",
        "\n",
        "data_no_dup['Tags'].value_counts()[0:30]"
      ],
      "execution_count": null,
      "outputs": [
        {
          "output_type": "execute_result",
          "data": {
            "text/plain": [
              "android                   35794\n",
              "php                       21957\n",
              "jquery                    19842\n",
              "javascript                17955\n",
              "javascript jquery         17923\n",
              "java                      17296\n",
              "c#                        16318\n",
              "python                    11920\n",
              "php mysql                 11501\n",
              "c++                       11081\n",
              "mysql                     10792\n",
              "html css                   9651\n",
              "iphone                     8603\n",
              "asp.net                    8105\n",
              "ruby-on-rails              7060\n",
              "c# asp.net                 7056\n",
              "java android               6336\n",
              "c                          6186\n",
              "css                        6132\n",
              "c# .net                    4349\n",
              "r                          4320\n",
              "git                        4152\n",
              "javascript html            4073\n",
              "iphone objective-c         4071\n",
              "javascript jquery html     3713\n",
              "sql                        3686\n",
              "objective-c                3641\n",
              "ruby                       3573\n",
              "mysql sql                  3509\n",
              "asp.net-mvc                3442\n",
              "Name: Tags, dtype: int64"
            ]
          },
          "metadata": {
            "tags": []
          },
          "execution_count": 13
        }
      ]
    },
    {
      "cell_type": "markdown",
      "metadata": {
        "id": "VHw53Yb_NP1x",
        "colab_type": "text"
      },
      "source": [
        "---\n",
        "\n",
        "> **Observe that most occuring tags cell are of word(tag) length 1 and hence label(tag) dependency is something which can be ignored in this data as the tags are fairly independent.**\n",
        "\n",
        "TBD:\n",
        "* Include tag count as a feature for each row\n",
        "\n",
        "---\n",
        "---"
      ]
    },
    {
      "cell_type": "markdown",
      "metadata": {
        "id": "2ti1y7V67T70",
        "colab_type": "text"
      },
      "source": [
        "## 3.2 Multivariate Analysis\n",
        "\n",
        "1. Tags count vs Title Word Count.\n"
      ]
    },
    {
      "cell_type": "code",
      "metadata": {
        "id": "pUm2WHWvvGhR",
        "colab_type": "code",
        "colab": {
          "base_uri": "https://localhost:8080/",
          "height": 404
        },
        "outputId": "70846cc0-1804-47a2-c312-88fa67ef9402"
      },
      "source": [
        "# Word Count of Title vs tag count on 10K random datapoints\n",
        "\n",
        "plt.figure(figsize=(10,6))\n",
        "\n",
        "# Plotting the line points\n",
        "plt.scatter(title_word_length[:10000], row_tag_count[:10000])\n",
        "\n",
        "# Defining the labels\n",
        "plt.xlabel('Title Word Count')\n",
        "plt.ylabel('Tags Count')\n",
        "\n",
        "# Defining title\n",
        "plt.title('Tag Count vs Title Word Count')\n",
        "\n",
        "# Show legend\n",
        "#plt.legend()\n",
        "\n",
        "plt.grid()\n",
        "plt.show()"
      ],
      "execution_count": null,
      "outputs": [
        {
          "output_type": "display_data",
          "data": {
            "image/png": "[encoded data removed]",
            "text/plain": [
              "<Figure size 720x432 with 1 Axes>"
            ]
          },
          "metadata": {
            "tags": [],
            "needs_background": "light"
          }
        }
      ]
    },
    {
      "cell_type": "markdown",
      "metadata": {
        "id": "K8c2ymATx01D",
        "colab_type": "text"
      },
      "source": [
        "---\n",
        "> **The plot shows no linearity between the two variables. Hence defining 'number of tags' against 'title word count' is useless.**\n",
        "\n",
        "---\n",
        "---\n"
      ]
    },
    {
      "cell_type": "markdown",
      "metadata": {
        "id": "xrDxUCBIN2iq",
        "colab_type": "text"
      },
      "source": [
        "# 3 Text Preprocessing\n",
        "\n",
        "General Tasks:\n",
        "1. HTML tags Removal\n",
        "2. Punctuation Removal\n",
        "3. Stopwords Removal\n",
        "4. Stemming(This auto lowercases the words) or Lemmitization\n",
        "5. Convert to Lowercase\n",
        "7. Expanding Contractions\n",
        "8. Treat numbers\n",
        "\n",
        "Specific to this project:\n",
        "1. Repeat Uppercase Words\n",
        "\n",
        "TBD: \n",
        "1. Not tokenize C#"
      ]
    },
    {
      "cell_type": "code",
      "metadata": {
        "id": "2vuZBoqNQ8xt",
        "colab_type": "code",
        "colab": {}
      },
      "source": [
        "# Faster Preprocessing without function calls\n",
        "\n",
        "datapoints = 500000\n",
        "\n",
        "def _preprocess(data_unprocessed, type = '', repeat_uppercase = 1):\n",
        "    \"\"\"\n",
        "    Arguments:\n",
        "    train_list --- A list of unprocessed strings\n",
        "    type --- 'title' OR 'body'\n",
        "\n",
        "    Returns:\n",
        "    filtered_sentences --- A list of processed strings\n",
        "\n",
        "    TBD : Removal of <code>...</code> in Body\n",
        "          Not tokenize C#\n",
        "    \"\"\"\n",
        "\n",
        "\n",
        "    stop_words = set(stopwords.words('english'))\n",
        "    punctuations = '!?$%^&*,:\\;_(){}/[].-'      # Note C# has the char '#' and C++ has '+' which should not be ommited\n",
        "    snow = SnowballStemmer('english')\n",
        "    filtered_title = []\n",
        "    filtered_body = []\n",
        "\n",
        "\n",
        "    if type == 'body' or type == '':\n",
        "        for i in tqdm(range(len(data_unprocessed))):\n",
        "            sentence = data_unprocessed['Body'].iloc[i]\n",
        "            clean = re.compile('<.*?>')\n",
        "            sentence = re.sub(clean, ' ', sentence).strip() # HTML Removal\n",
        "            sentence = contractions.fix(sentence)           # Expanding Contractions\n",
        "            tokens = word_tokenize(sentence)\n",
        "            temp = ''\n",
        "            for token in tokens:\n",
        "                if token not in punctuations and token not in stop_words:           # Punctuation & Stopwords Removal\n",
        "                    if not token.isnumeric():                                       # Numerals Removal\n",
        "                        if token.isupper() and token != 'I':                \n",
        "                            temp += (snow.stem(token) + ' ') * repeat_uppercase     # Stemming and Repeating\n",
        "                        else:\n",
        "                            temp += snow.stem(token) + ' '\n",
        "            filtered_body.append(temp.strip())\n",
        "        if type == 'body':\n",
        "            pass # TBD\n",
        "\n",
        "\n",
        "    if type == 'title' or type == '':\n",
        "        for i in tqdm(range(len(data_unprocessed))):\n",
        "            sentence = data_unprocessed['Title'].iloc[i]\n",
        "            clean = re.compile('<.*?>')\n",
        "            sentence = re.sub(clean, ' ', sentence).strip() # HTML Removal\n",
        "            sentence = contractions.fix(sentence)           # Expanding Contractions\n",
        "            tokens = word_tokenize(sentence)\n",
        "            temp = ''\n",
        "            for token in tokens:\n",
        "                if token not in punctuations:               # Punctuation Removal\n",
        "                    if token not in stop_words:             # Stopword Removal\n",
        "                        temp += snow.stem(token) + ' '      # Stemming\n",
        "            filtered_title.append((temp.strip()))\n",
        "        if type == 'title':\n",
        "            data_preprocessed = pd.DataFrame({'Title':filtered_title, 'Tags':data_unprocessed['Tags']})\n",
        "        else:\n",
        "            data_preprocessed = pd.DataFrame({'Title':filtered_title, 'Body':filtered_body, 'Tags': data_unprocessed['Tags']})\n",
        " \n",
        "\n",
        "    return data_preprocessed"
      ],
      "execution_count": null,
      "outputs": []
    },
    {
      "cell_type": "code",
      "metadata": {
        "id": "vtUCEGfSMbv0",
        "colab_type": "code",
        "colab": {
          "base_uri": "https://localhost:8080/",
          "height": 66,
          "referenced_widgets": [
            "950e611e79284d6ba7aa0f33eaa9b603",
            "43628e40a66042e4ad2d02fa362278b3",
            "f051c8b7a3f649388b3dad32152268f0",
            "77a6f05f584645f49268a19bad83043b",
            "93fb4469be45439eac0d43940b8b05b1",
            "0ac9bea70ea84649837935cfd6424034",
            "8d94abf2f74f4e1a9dd71362c6118d7c",
            "24a173b3829b40be8c71ac95d1e44129"
          ]
        },
        "outputId": "c3782130-c580-4f82-d1ea-6753e7f112a0"
      },
      "source": [
        "# Sanity Check (Driving the above function)\n",
        "\n",
        "data_preprocessed = _preprocess(data_no_dup[0:500000], type='title')"
      ],
      "execution_count": null,
      "outputs": [
        {
          "output_type": "display_data",
          "data": {
            "application/vnd.jupyter.widget-view+json": {
              "model_id": "950e611e79284d6ba7aa0f33eaa9b603",
              "version_minor": 0,
              "version_major": 2
            },
            "text/plain": [
              "HBox(children=(FloatProgress(value=0.0, max=500000.0), HTML(value='')))"
            ]
          },
          "metadata": {
            "tags": []
          }
        },
        {
          "output_type": "stream",
          "text": [
            "\n"
          ],
          "name": "stdout"
        }
      ]
    },
    {
      "cell_type": "code",
      "metadata": {
        "id": "YVHw3uyU_KZQ",
        "colab_type": "code",
        "colab": {}
      },
      "source": [
        "# Saving the preprocessed data to CSV file\n",
        "\n",
        "data_preprocessed.to_csv('/content/gdrive/My Drive/datasets/stacko/preprocessed.csv')"
      ],
      "execution_count": null,
      "outputs": []
    },
    {
      "cell_type": "code",
      "metadata": {
        "id": "JMrahWDcMGci",
        "colab_type": "code",
        "colab": {}
      },
      "source": [
        "data_preprocessed = pd.read_csv('/content/gdrive/My Drive/datasets/stacko/preprocessed.csv')"
      ],
      "execution_count": null,
      "outputs": []
    },
    {
      "cell_type": "code",
      "metadata": {
        "id": "vw-AiGJPEMh-",
        "colab_type": "code",
        "colab": {
          "base_uri": "https://localhost:8080/",
          "height": 204
        },
        "outputId": "54de9c22-bdd7-4b07-f26b-9be43dcb63a2"
      },
      "source": [
        "data_preprocessed.head()"
      ],
      "execution_count": null,
      "outputs": [
        {
          "output_type": "execute_result",
          "data": {
            "text/html": [
              "<div>\n",
              "<style scoped>\n",
              "    .dataframe tbody tr th:only-of-type {\n",
              "        vertical-align: middle;\n",
              "    }\n",
              "\n",
              "    .dataframe tbody tr th {\n",
              "        vertical-align: top;\n",
              "    }\n",
              "\n",
              "    .dataframe thead th {\n",
              "        text-align: right;\n",
              "    }\n",
              "</style>\n",
              "<table border=\"1\" class=\"dataframe\">\n",
              "  <thead>\n",
              "    <tr style=\"text-align: right;\">\n",
              "      <th></th>\n",
              "      <th>Unnamed: 0</th>\n",
              "      <th>Title</th>\n",
              "      <th>Tags</th>\n",
              "    </tr>\n",
              "  </thead>\n",
              "  <tbody>\n",
              "    <tr>\n",
              "      <th>0</th>\n",
              "      <td>0</td>\n",
              "      <td>how check upload file imag without mime type</td>\n",
              "      <td>php image-processing file-upload upload mime-t...</td>\n",
              "    </tr>\n",
              "    <tr>\n",
              "      <th>1</th>\n",
              "      <td>1</td>\n",
              "      <td>how i prevent firefox close i press ctrl-w</td>\n",
              "      <td>firefox</td>\n",
              "    </tr>\n",
              "    <tr>\n",
              "      <th>2</th>\n",
              "      <td>2</td>\n",
              "      <td>r error invalid type list variabl</td>\n",
              "      <td>r matlab machine-learning</td>\n",
              "    </tr>\n",
              "    <tr>\n",
              "      <th>3</th>\n",
              "      <td>3</td>\n",
              "      <td>how i replac special charact url</td>\n",
              "      <td>c# url encoding</td>\n",
              "    </tr>\n",
              "    <tr>\n",
              "      <th>4</th>\n",
              "      <td>4</td>\n",
              "      <td>how modifi whoi contact detail</td>\n",
              "      <td>php api file-get-contents</td>\n",
              "    </tr>\n",
              "  </tbody>\n",
              "</table>\n",
              "</div>"
            ],
            "text/plain": [
              "   Unnamed: 0  ...                                               Tags\n",
              "0           0  ...  php image-processing file-upload upload mime-t...\n",
              "1           1  ...                                            firefox\n",
              "2           2  ...                          r matlab machine-learning\n",
              "3           3  ...                                    c# url encoding\n",
              "4           4  ...                          php api file-get-contents\n",
              "\n",
              "[5 rows x 3 columns]"
            ]
          },
          "metadata": {
            "tags": []
          },
          "execution_count": 6
        }
      ]
    },
    {
      "cell_type": "code",
      "metadata": {
        "id": "MX6yI_v_PW8Q",
        "colab_type": "code",
        "colab": {}
      },
      "source": [
        "# Preprocessing Functions\n",
        "\n",
        "\"\"\"\n",
        "def _html_tag_remover(sentence):\n",
        "    # Ref: https://medium.com/@jorlugaqui/how-to-strip-html-tags-from-a-string-in-python-7cb81a2bbf44\n",
        "    clean = re.compile('<.*?>')\n",
        "    return re.sub(clean, ' ', sentence).strip()\n",
        "\n",
        "\n",
        "def _expand_contractions(sentence):\n",
        "    # Ref: https://medium.com/@lukei_3514/dealing-with-contractions-in-nlp-d6174300876b\n",
        "    # Ref: https://pypi.org/project/pycontractions/\n",
        "    # TBD-- Use spaCy or pycontractions\n",
        "    return contractions.fix(sentence)\n",
        "\n",
        "\n",
        "def _punc_remover(sentence):\n",
        "    punctuations = '!?#$%^&*,:\\;-_(){}/[]'\n",
        "    for character in sentence:\n",
        "        if character in punctuations:\n",
        "            sentence = sentence.replace(character, \" \")\n",
        "            continue\n",
        "    return sentence.strip()\n",
        "\n",
        "\n",
        "def _stop_remover(sentence):\n",
        "    # Ref: https://www.analyticsvidhya.com/blog/2019/08/how-to-remove-stopwords-text-normalization-nltk-spacy-gensim-python/\n",
        "    filtered_sentence = ''\n",
        "    stop_words = set(stopwords.words('english'))\n",
        "    tokens = word_tokenize(sentence)\n",
        "    for token in tokens:\n",
        "        if token not in stop_words:\n",
        "            filtered_sentence += token + ' '\n",
        "    return filtered_sentence.strip()\n",
        "\n",
        "\n",
        "def _stemmer(sentence): # This automatically converts to lowercase\n",
        "    stemmed_sentence = \"\"\n",
        "    tokens = word_tokenize(sentence) # str.split() can be used for faster result\n",
        "    # but take a look: https://stackoverflow.com/questions/35345761/python-re-split-vs-nltk-word-tokenize-and-sent-tokenize\n",
        "    snow = SnowballStemmer('english')\n",
        "    for token in tokens:\n",
        "        stemmed_sentence += snow.stem(token) + ' '\n",
        "    return stemmed_sentence.strip()\n",
        "\n",
        "\n",
        "def _lemmatizer(sentence):\n",
        "    pass\n",
        "\n",
        "\n",
        "def _treat_numbers(sentence):\n",
        "    pass\n",
        "\"\"\""
      ],
      "execution_count": null,
      "outputs": []
    },
    {
      "cell_type": "markdown",
      "metadata": {
        "id": "IhIqBFm_LnIf",
        "colab_type": "text"
      },
      "source": [
        "# 4 Featurization\n",
        "\n",
        "1. Data Splitting\n",
        "2. n-Gram Range\n",
        "3. Title Weightage\n",
        "\n",
        "* Vectorizing both Title and Body and merging them later might be more beneficial as this will increase the dimensionality and sparsity of data as opposed to merging first and then vectorizing.\n",
        "But then, merging them first will enable us to put more weight on the Title part than the Body which could be positive point for the models accuracy.\n",
        "\n",
        "* The newly derived numerical features should be added as a separate column after vectorization of texts. \n",
        "\n",
        "    Why?\n",
        "\n",
        "    Suppose I build 5 additional features which has values 2,2,2,2,2. If we add these before vectorization to the row, these will be counted as a single feature with a BoW Count of 5! Which is not what we want."
      ]
    },
    {
      "cell_type": "code",
      "metadata": {
        "id": "lAMa7J-Mya30",
        "colab_type": "code",
        "colab": {}
      },
      "source": [
        "def _featurize_split_1(data_preprocessed, y_max_features = 75, title_weight = 1, cv_size = 0.2, ngram=(1,1)):\n",
        "    \"\"\"\n",
        "    This function implements merging Title & Body before vectorizing. \n",
        "    By Default, only Title will be included and 'Body' will not be considered in vectorization. \n",
        "    Uncomment the desired lines in below code.\n",
        "\n",
        "    Arguments:\n",
        "    data_preprocessed ---  DataFrame of preprocessed title, preprocessed body and Tags\n",
        "    y_max_features --- Maximum number of tags to consider based on occurance frequency\n",
        "    cv_size --- Fraction of input data to split into Cross-Validation set.(default = 0.2)\n",
        "\n",
        "    Returns:\n",
        "    X_train --- TfIdf form of each document in the corpus\n",
        "    X_cv    ---\n",
        "    y_train --- Binary Bag of Words form of the tags\n",
        "    y_cv    ---\n",
        "    \"\"\"\n",
        "\n",
        "    merged_train = []\n",
        "    merged_cv = []\n",
        "\n",
        "\n",
        "    # Splitting data before transformation to avoid data leakage\n",
        "    train, cv = train_test_split(data_preprocessed, test_size = cv_size)\n",
        "\n",
        "\n",
        "    # Count Vectorizer for tags(Output Labels)\n",
        "    vectorizer_y = CountVectorizer(lowercase=True, binary=True, max_features=y_max_features)\n",
        "    y_train = vectorizer_y.fit_transform(train['Tags'])              # Binary Bow\n",
        "    y_cv = vectorizer_y.transform(cv['Tags'])\n",
        "\n",
        "\n",
        "    # Building a list of number of tags for each row in data\n",
        "    tag_count_train = []\n",
        "    tag_count_cv = []\n",
        "    for each in train['Tags']:\n",
        "        tag_count_train.append(each.count(' ') + 1)\n",
        "    for each in cv['Tags']:\n",
        "        tag_count_cv.append(each.count(' ') + 1)\n",
        "\n",
        "\n",
        "    # Building a list of word count in each row of Title\n",
        "    title_word_count_train = []\n",
        "    title_word_count_cv = []\n",
        "    for each in train['Title']:\n",
        "        title_word_count_train.append(each.count(' ') + 1)\n",
        "    for each in cv['Title']:\n",
        "        title_word_count_cv.append(each.count(' ') + 1)\n",
        "\n",
        "\n",
        "    \"\"\"# Building a list of Word Count in each row of Body\n",
        "    body_word_count_train = []\n",
        "    body_word_count_cv = []\n",
        "    for each in train['Body']:\n",
        "        body_word_count_train.append(each.count(' ') + 1)\n",
        "    for each in cv['Body']:\n",
        "        body_word_count_cv.append(each.count(' ') + 1)\"\"\"\n",
        "\n",
        "\n",
        "    \"\"\"Merging Title and Body into a single row with weight implemented on Title\n",
        "    By default, Body has been skipped for frther usage. Uncomment in the below two append lines to\n",
        "    include body.\"\"\"\n",
        "    for i in range(len(train)):\n",
        "        merged_train.append((train['Title'].iloc[i] + ' ')) # * title_weight  + train['Body'].iloc[i])\n",
        "    for i in range(len(cv)):\n",
        "        merged_cv.append((cv['Title'].iloc[i] + ' ')) # * title_weight  + train['Body'].iloc[i])\n",
        "\n",
        "\n",
        "    # TfIDF Vectorizer for Preprocessed Text\n",
        "    vectorizer_x = TfidfVectorizer(ngram_range=ngram, max_features=100000)\n",
        "    X_train = vectorizer_x.fit_transform(merged_train)\n",
        "    X_cv = vectorizer_x.transform(merged_cv)\n",
        "\n",
        "\n",
        "    # Merging other derived features to X_train and X_cv\n",
        "    # pass    # TBD\n",
        "\n",
        "\n",
        "    # returning in a Dictionary\n",
        "    return {'X_train':X_train, 'X_cv':X_cv, 'y_train':y_train, 'y_cv':y_cv}"
      ],
      "execution_count": null,
      "outputs": []
    },
    {
      "cell_type": "code",
      "metadata": {
        "id": "VKB6shA-LrPN",
        "colab_type": "code",
        "colab": {}
      },
      "source": [
        "def _featurize_split_2(data_preprocessed, y_max_features = 75, cv_size = 0.2, ngram=(1,1)):\n",
        "    \"\"\"\n",
        "    This function vectorizes Title and Body separately and later merging them using hstack.\n",
        "\n",
        "    Arguments:\n",
        "    data_preprocessed ---  DataFrame of preprocessed title, preprocessed body and Tags\n",
        "    y_max_features --- Maximum number of tags to consider based on occurance frequency\n",
        "    cv_size --- Fraction of input data to split into Cross-Validation set.(default = 0.2)\n",
        "\n",
        "    Returns:\n",
        "    X_train --- TfIdf form of each document in the corpus\n",
        "    X_cv    ---\n",
        "    y_train --- Binary Bag of Words form of the tags\n",
        "    y_cv    ---\n",
        "    \"\"\"\n",
        "\n",
        "    # Splitting data\n",
        "    train, cv = train_test_split(data_preprocessed, test_size = cv_size)\n",
        "\n",
        "\n",
        "    # Count Vectorizer for tags(Output Labels)\n",
        "    vectorizer = CountVectorizer(lowercase=True, binary=True, max_features=y_max_features)\n",
        "    y_train = vectorizer.fit_transform(train['Tags'])              # Binary Bow\n",
        "    y_cv = vectorizer.transform(cv['Tags'])\n",
        "\n",
        "\n",
        "    # Building a list of number of tags for each row in data\n",
        "    tag_count_train = []\n",
        "    tag_count_cv = []\n",
        "    for each in train['Tags']:\n",
        "        tag_count_train.append(each.count(' ') + 1)\n",
        "    for each in cv['Tags']:\n",
        "        tag_count_cv.append(each.count(' ') + 1)\n",
        "\n",
        "\n",
        "    # Building a list of word count in each row of Title\n",
        "    title_word_count_train = []\n",
        "    title_word_count_cv = []\n",
        "    for each in train['Title']:\n",
        "        title_word_count_train.append(each.count(' ') + 1)\n",
        "    for each in cv['Title']:\n",
        "        title_word_count_cv.append(each.count(' ') + 1)\n",
        "\n",
        "\n",
        "    # Building a list of Word Count in each row of Body\n",
        "    body_word_count_train = []\n",
        "    body_word_count_cv = []\n",
        "    for each in train['Body']:\n",
        "        body_word_count_train.append(each.count(' ') + 1)\n",
        "    for each in cv['Body']:\n",
        "        body_word_count_cv.append(each.count(' ') + 1)\n",
        "\n",
        "\n",
        "    # TfIDF Vectorizer for Preprocessed Title \n",
        "    vectorizer_title = TfidfVectorizer(ngram_range = ngram)\n",
        "    X_train_title = vectorizer_title.fit_transform(train['Title'])\n",
        "    X_cv_title = vectorizer_title.transform(cv['Title'])\n",
        "\n",
        "\n",
        "    # TfIDF Vectorizer for Preprocessed Body \n",
        "    vectorizer_body = TfidfVectorizer()\n",
        "    X_train_body = vectorizer_body.fit_transform(train['Body'])\n",
        "    X_cv_body = vectorizer_body.transform(cv['Body'])\n",
        "\n",
        "\n",
        "    # Merging the Title and Body Rows\n",
        "    X_train = hstack((X_train_title, X_train_body))\n",
        "    X_cv = hstack((X_cv_title, X_cv_body))\n",
        "\n",
        "\n",
        "    # Merging other derived features to X_train and X_cv\n",
        "    # pass    # TBD\n",
        "\n",
        "\n",
        "    # returning in a Dictionary\n",
        "    return {'X_train':X_train, 'X_cv':X_cv, 'y_train':y_train, 'y_cv':y_cv}"
      ],
      "execution_count": null,
      "outputs": []
    },
    {
      "cell_type": "code",
      "metadata": {
        "id": "ndtb29a3O97R",
        "colab_type": "code",
        "colab": {}
      },
      "source": [
        "# Sanity Check (Driving the above function)\n",
        "\n",
        "data_featurized = _featurize_split_1(data_preprocessed, y_max_features = 700, cv_size = .1, ngram=(1,1))"
      ],
      "execution_count": null,
      "outputs": []
    },
    {
      "cell_type": "code",
      "metadata": {
        "id": "nJLDcH3vMt9U",
        "colab_type": "code",
        "colab": {
          "base_uri": "https://localhost:8080/",
          "height": 153
        },
        "outputId": "241f9067-89db-47d2-b225-9379e0cbd77c"
      },
      "source": [
        "data_featurized"
      ],
      "execution_count": null,
      "outputs": [
        {
          "output_type": "execute_result",
          "data": {
            "text/plain": [
              "{'X_cv': <50000x69966 sparse matrix of type '<class 'numpy.float64'>'\n",
              " \twith 282468 stored elements in Compressed Sparse Row format>,\n",
              " 'X_train': <450000x69966 sparse matrix of type '<class 'numpy.float64'>'\n",
              " \twith 2585576 stored elements in Compressed Sparse Row format>,\n",
              " 'y_cv': <50000x700 sparse matrix of type '<class 'numpy.int64'>'\n",
              " \twith 120851 stored elements in Compressed Sparse Row format>,\n",
              " 'y_train': <450000x700 sparse matrix of type '<class 'numpy.int64'>'\n",
              " \twith 1088091 stored elements in Compressed Sparse Row format>}"
            ]
          },
          "metadata": {
            "tags": []
          },
          "execution_count": 11
        }
      ]
    },
    {
      "cell_type": "markdown",
      "metadata": {
        "id": "dWio6Jn0YZI9",
        "colab_type": "text"
      },
      "source": [
        "# 5 Model Exploration\n",
        "\n",
        "We won't go for non-linear models as we will have to train one model for each tag and hence going for the cheaper to train models."
      ]
    },
    {
      "cell_type": "markdown",
      "metadata": {
        "id": "PVQcbL0jY3Q6",
        "colab_type": "text"
      },
      "source": [
        "## 5.1 Logistic Regression\n",
        "\n",
        "1. Data Scaling(Standard Scalar)"
      ]
    },
    {
      "cell_type": "code",
      "metadata": {
        "id": "l0O7Npb-Y6oV",
        "colab_type": "code",
        "colab": {}
      },
      "source": [
        "# Logistic Regression function\n",
        "\n",
        "def _logistic_regression(data_featurized, _alpha=0.0001):\n",
        "    \"\"\"\n",
        "    Arguments:\n",
        "\n",
        "    Returns:\n",
        "    \"\"\"\n",
        "\n",
        "\n",
        "    scalar = StandardScaler(with_mean=False)\n",
        "    X_train = scalar.fit_transform(data_featurized['X_train'])\n",
        "    X_cv = scalar.fit_transform(data_featurized['X_cv'])\n",
        "\n",
        "\n",
        "    clf = OneVsRestClassifier(SGDClassifier(loss='log', alpha = _alpha, n_jobs=-1), n_jobs=-1)\n",
        "    clf.fit(X_train, data_featurized['y_train'])\n",
        "    pred = clf.predict(X_cv)\n",
        "    f1_micro = f1_score(data_featurized['y_cv'], pred, average='micro')\n",
        "    f1_macro = f1_score(data_featurized['y_cv'], pred, average='macro')\n",
        "    # acc = accuracy_score(data_featurized['y_cv'], pred)\n",
        "\n",
        "\n",
        "    print(\"For alpha = {}, Micro F1 = {:.3f}, Macro F1 = {:.3f}\".format(_alpha, f1_micro, f1_macro))"
      ],
      "execution_count": null,
      "outputs": []
    },
    {
      "cell_type": "code",
      "metadata": {
        "id": "j_OHPM4DuQ8r",
        "colab_type": "code",
        "colab": {
          "base_uri": "https://localhost:8080/",
          "height": 102
        },
        "outputId": "26b9738c-b546-4606-c14d-419c70f25d8c"
      },
      "source": [
        "# Results after model trained on Title with all 4.2M Datapoints and 75 Tags\n",
        "# Forgot to scale the data :p\n",
        "\n",
        "for _alpha in [10**i for i in range(-10,-5)]:\n",
        "    f1, acc = _logistic_regression(X_train, X_cv, y_train, y_cv, _alpha)\n",
        "    print(\"For alpha = {}, Micro F1 Score = {} and Accuracy = {}\".format(_alpha, f1, acc))"
      ],
      "execution_count": null,
      "outputs": [
        {
          "output_type": "stream",
          "text": [
            "For alpha = 1e-10, Micro F1 Score = 0.5097006600179836 and Accuracy = 0.33132920382805375\n",
            "For alpha = 1e-09, Micro F1 Score = 0.5573338928861776 and Accuracy = 0.3976770641285781\n",
            "For alpha = 1e-08, Micro F1 Score = 0.5885593698862491 and Accuracy = 0.4553225329058808\n",
            "For alpha = 1e-07, Micro F1 Score = 0.5920797712610814 and Accuracy = 0.47235644501184526\n",
            "For alpha = 1e-06, Micro F1 Score = 0.5726007738904334 and Accuracy = 0.46532535009860176\n"
          ],
          "name": "stdout"
        }
      ]
    },
    {
      "cell_type": "code",
      "metadata": {
        "id": "eQmxX68h7qDt",
        "colab_type": "code",
        "colab": {}
      },
      "source": [
        "# Data Scaling\n",
        "\n",
        "scalar = StandardScaler(with_mean=False)\n",
        "X_train = scalar.fit_transform(data_featurized['X_train'])\n",
        "X_cv = scalar.fit_transform(data_featurized['X_cv'])\n",
        "y_train = data_featurized['y_train']\n",
        "y_cv = data_featurized['y_cv']"
      ],
      "execution_count": null,
      "outputs": []
    },
    {
      "cell_type": "code",
      "metadata": {
        "id": "phb7OaL1yJK5",
        "colab_type": "code",
        "colab": {}
      },
      "source": [
        "# Saving the Scaled Data to Drive for further use\n",
        "\n",
        "sp.save_npz('/content/gdrive/My Drive/datasets/stacko/x_train', X_train)\n",
        "sp.save_npz('/content/gdrive/My Drive/datasets/stacko/x_cv', X_cv)\n",
        "sp.save_npz('/content/gdrive/My Drive/datasets/stacko/y_train', y_train)\n",
        "sp.save_npz('/content/gdrive/My Drive/datasets/stacko/y_cv', y_cv)"
      ],
      "execution_count": null,
      "outputs": []
    },
    {
      "cell_type": "markdown",
      "metadata": {
        "id": "xg-az3nv1i-7",
        "colab_type": "text"
      },
      "source": [
        "---\n",
        "We will be purging all the variables on the RAM to free up memory as training 5000 models will consume quite a good amount of RAM and the kernel was killed last time during training due to memory constraints. \n",
        "Finally we will load the saved scaled data to start with fresh free memory.\n",
        "\n",
        "---\n",
        "---"
      ]
    },
    {
      "cell_type": "code",
      "metadata": {
        "id": "_W8y2CkjygXW",
        "colab_type": "code",
        "colab": {}
      },
      "source": [
        "# Loading the Scaled data from Drive for training\n",
        "\n",
        "X_train = sp.load_npz('/content/gdrive/My Drive/datasets/stacko/x_train.npz')\n",
        "X_cv = sp.load_npz('/content/gdrive/My Drive/datasets/stacko/x_cv.npz')\n",
        "y_train = sp.load_npz('/content/gdrive/My Drive/datasets/stacko/y_train.npz')\n",
        "y_cv = sp.load_npz('/content/gdrive/My Drive/datasets/stacko/y_cv.npz')"
      ],
      "execution_count": null,
      "outputs": []
    },
    {
      "cell_type": "code",
      "metadata": {
        "id": "2G1fSNdD72W7",
        "colab_type": "code",
        "colab": {
          "base_uri": "https://localhost:8080/",
          "height": 238
        },
        "outputId": "06d3b64a-2d4a-49d1-a248-d323546b3c27"
      },
      "source": [
        "# Training OneVSRest Logistic Regression Classifier for 1500 Tags\n",
        "\n",
        "clf = OneVsRestClassifier(SGDClassifier(loss='log', n_jobs=-1, early_stopping=True, validation_fraction=0.1, verbose=1), n_jobs=-1)\n",
        "clf.fit(X_train, y_train)"
      ],
      "execution_count": null,
      "outputs": [
        {
          "output_type": "execute_result",
          "data": {
            "text/plain": [
              "OneVsRestClassifier(estimator=SGDClassifier(alpha=0.0001, average=False,\n",
              "                                            class_weight=None,\n",
              "                                            early_stopping=True, epsilon=0.1,\n",
              "                                            eta0=0.0, fit_intercept=True,\n",
              "                                            l1_ratio=0.15,\n",
              "                                            learning_rate='optimal', loss='log',\n",
              "                                            max_iter=1000, n_iter_no_change=5,\n",
              "                                            n_jobs=-1, penalty='l2',\n",
              "                                            power_t=0.5, random_state=None,\n",
              "                                            shuffle=True, tol=0.001,\n",
              "                                            validation_fraction=0.1, verbose=1,\n",
              "                                            warm_start=False),\n",
              "                    n_jobs=-1)"
            ]
          },
          "metadata": {
            "tags": []
          },
          "execution_count": 20
        }
      ]
    },
    {
      "cell_type": "code",
      "metadata": {
        "id": "VytiJGHv43hZ",
        "colab_type": "code",
        "colab": {
          "base_uri": "https://localhost:8080/",
          "height": 34
        },
        "outputId": "bdf831c8-bee8-41d3-8956-f842ef71fd5c"
      },
      "source": [
        "pred = clf.predict(X_cv)\n",
        "f1_score(data_featurized['y_cv'], pred, average='macro')"
      ],
      "execution_count": null,
      "outputs": [
        {
          "output_type": "execute_result",
          "data": {
            "text/plain": [
              "0.3090140757183845"
            ]
          },
          "metadata": {
            "tags": []
          },
          "execution_count": 22
        }
      ]
    },
    {
      "cell_type": "code",
      "metadata": {
        "id": "kBFJ_xVU95I5",
        "colab_type": "code",
        "colab": {
          "base_uri": "https://localhost:8080/",
          "height": 238
        },
        "outputId": "b04b8581-8816-4ae4-c905-c6573ea8fd63"
      },
      "source": [
        "# Training OneVSRest Logistic Regression Classifier for 700 Tags with default value of alpha\n",
        "\n",
        "clf = OneVsRestClassifier(SGDClassifier(loss='log', n_jobs=-1, early_stopping=True, validation_fraction=0.1, verbose=1), n_jobs=-1)\n",
        "clf.fit(X_train, y_train)"
      ],
      "execution_count": null,
      "outputs": [
        {
          "output_type": "execute_result",
          "data": {
            "text/plain": [
              "OneVsRestClassifier(estimator=SGDClassifier(alpha=0.0001, average=False,\n",
              "                                            class_weight=None,\n",
              "                                            early_stopping=True, epsilon=0.1,\n",
              "                                            eta0=0.0, fit_intercept=True,\n",
              "                                            l1_ratio=0.15,\n",
              "                                            learning_rate='optimal', loss='log',\n",
              "                                            max_iter=1000, n_iter_no_change=5,\n",
              "                                            n_jobs=-1, penalty='l2',\n",
              "                                            power_t=0.5, random_state=None,\n",
              "                                            shuffle=True, tol=0.001,\n",
              "                                            validation_fraction=0.1, verbose=1,\n",
              "                                            warm_start=False),\n",
              "                    n_jobs=-1)"
            ]
          },
          "metadata": {
            "tags": []
          },
          "execution_count": 15
        }
      ]
    },
    {
      "cell_type": "code",
      "metadata": {
        "id": "KFSedYmZTgER",
        "colab_type": "code",
        "colab": {
          "base_uri": "https://localhost:8080/",
          "height": 34
        },
        "outputId": "4252ab4e-331b-4e8a-8f52-b17ddc22d55d"
      },
      "source": [
        "# F1_Score Check\n",
        "\n",
        "pred = clf.predict(X_cv)\n",
        "f1_score(y_cv, pred, average='micro')"
      ],
      "execution_count": null,
      "outputs": [
        {
          "output_type": "execute_result",
          "data": {
            "text/plain": [
              "0.40396652366551794"
            ]
          },
          "metadata": {
            "tags": []
          },
          "execution_count": 18
        }
      ]
    },
    {
      "cell_type": "code",
      "metadata": {
        "id": "zFmu4QLJS6lF",
        "colab_type": "code",
        "colab": {
          "base_uri": "https://localhost:8080/",
          "height": 170
        },
        "outputId": "71cea3d1-9dbe-43ac-f702-ad119b243322"
      },
      "source": [
        "# Hyperparameter Tuning: 700 Tags and 500K datapoints\n",
        "\n",
        "_alpha = [10 ** i for i in range(-10,10,2)]\n",
        "for al in _alpha:\n",
        "    clf = OneVsRestClassifier(SGDClassifier(loss='log', n_jobs=-1, early_stopping=True, validation_fraction=0.1, verbose=1, alpha=al), n_jobs=-1)\n",
        "    clf.fit(X_train, y_train)\n",
        "    pred = clf.predict(X_cv)\n",
        "    print('For alpha={}, Micro-F1 = {}'.format(al, f1_score(y_cv, pred, average='micro')))"
      ],
      "execution_count": null,
      "outputs": [
        {
          "output_type": "stream",
          "text": [
            "For alpha=1e-10, Micro-F1 = 0.36652845245122795\n",
            "For alpha=1e-08, Micro-F1 = 0.36864024333908996\n",
            "For alpha=1e-06, Micro-F1 = 0.3744601740463979\n",
            "For alpha=0.0001, Micro-F1 = 0.40478360710890643\n",
            "For alpha=0.01, Micro-F1 = 0.47364108767974483\n",
            "For alpha=1, Micro-F1 = 0.11057307414287602\n",
            "For alpha=100, Micro-F1 = 0.009416567891478994\n",
            "For alpha=10000, Micro-F1 = 0.01839029329649812\n",
            "For alpha=1000000, Micro-F1 = 0.003008469368045841\n"
          ],
          "name": "stdout"
        }
      ]
    },
    {
      "cell_type": "markdown",
      "metadata": {
        "id": "I7oqbgtvGWRy",
        "colab_type": "text"
      },
      "source": [
        "---\n",
        "1. Initial attempt to train on 4.2M datapoints with 75 Output labels was succesful resulting with Micro-F1 Score of 0.59.\n",
        "2. Tried the same including the 'Body' alongwith the 'Title' but Micro-F1 of 0.04 directed me to ditch and stick to 'Title' only.\n",
        "3. Next attempts were to train 5k Models for 5000 Tags but had 'Memory Error'.\n",
        "    * Reduced the TFIDF features to 100K from 240K but still the same error.\n",
        "    * Now tried with 1M datapoints instead of 4.2M but 'Memory Error' again. \n",
        "    * Tried 1500 Models for 1500 Tags this time and it skipped error this time resulting in Micro-F1 of 0.3 without Hyperparameter tuning but took ~1Hour.\n",
        "    * Gave a final try to train 1500 Models with 4.2M datapoints and it failed again.\n",
        "4. Trained 700 Models for top 700 tags with 500K datapoints.\n",
        "\n",
        "\n",
        "---\n",
        "---"
      ]
    },
    {
      "cell_type": "markdown",
      "metadata": {
        "id": "s5d5Dm0a_Qsn",
        "colab_type": "text"
      },
      "source": [
        "## 5.2 Support Vector Machines"
      ]
    },
    {
      "cell_type": "code",
      "metadata": {
        "id": "GvmhGaW6_bqA",
        "colab_type": "code",
        "colab": {}
      },
      "source": [
        "def _svc(data_featurized):\n",
        "    \"\"\"\n",
        "    Arguments:\n",
        "\n",
        "    Returns:\n",
        "    \"\"\"\n",
        "\n",
        "    scalar = StandardScaler(with_mean=False)\n",
        "    X_train = scalar.fit_transform(data_featurized['X_train'])\n",
        "    X_cv = scalar.fit_transform(data_featurized['X_cv'])\n",
        "\n",
        "    clf = OneVsRestClassifier(SVC(kernel='rbf'))\n",
        "    clf.fit(X_train, data_featurized['y_train'])\n",
        "    pred = clf.predict[X_cv]\n",
        "\n",
        "    f1_micro = f1_score(data_featurized['y_cv'], pred, average='micro')\n",
        "    f1_macro = f1_score(data_featurized['y_cv'], pred, average='macro')\n",
        "    # acc = accuracy_score(data_featurized['y_cv'], pred)\n",
        "    \n",
        "    print(\"Micro F1 = {:.3f}, Macro F1 = {:.3f}\".format(f1_micro, f1_macro))"
      ],
      "execution_count": null,
      "outputs": []
    },
    {
      "cell_type": "code",
      "metadata": {
        "id": "RlBOidXmUdZr",
        "colab_type": "code",
        "colab": {}
      },
      "source": [
        "# Scaling data before Modelling\n",
        "\n",
        "scalar = StandardScaler(with_mean=False)\n",
        "X_train = scalar.fit_transform(data_featurized['X_train'])\n",
        "X_cv = scalar.fit_transform(data_featurized['X_cv'])"
      ],
      "execution_count": null,
      "outputs": []
    },
    {
      "cell_type": "code",
      "metadata": {
        "id": "3Rta0rd5UWHv",
        "colab_type": "code",
        "colab": {
          "base_uri": "https://localhost:8080/",
          "height": 136
        },
        "outputId": "a20fd57b-f080-46d9-e391-82d30e6441d2"
      },
      "source": [
        "# Training SVC using RBF Kernel with default parameters for top 75 Tags\n",
        "\n",
        "clf = OneVsRestClassifier(SVC(kernel='rbf'))\n",
        "clf.fit(X_train, data_featurized['y_train'])"
      ],
      "execution_count": null,
      "outputs": [
        {
          "output_type": "execute_result",
          "data": {
            "text/plain": [
              "OneVsRestClassifier(estimator=SVC(C=1.0, break_ties=False, cache_size=200,\n",
              "                                  class_weight=None, coef0=0.0,\n",
              "                                  decision_function_shape='ovr', degree=3,\n",
              "                                  gamma='scale', kernel='rbf', max_iter=-1,\n",
              "                                  probability=False, random_state=None,\n",
              "                                  shrinking=True, tol=0.001, verbose=False),\n",
              "                    n_jobs=None)"
            ]
          },
          "metadata": {
            "tags": []
          },
          "execution_count": 13
        }
      ]
    },
    {
      "cell_type": "code",
      "metadata": {
        "id": "Ir6B4ie4B1Uk",
        "colab_type": "code",
        "colab": {
          "base_uri": "https://localhost:8080/",
          "height": 34
        },
        "outputId": "088c54c3-46c8-4f6e-a8d5-8534dc78dbcf"
      },
      "source": [
        "# Checking F1 Score\n",
        "\n",
        "pred = clf.predict(X_cv)\n",
        "f1_score(data_featurized['y_cv'], pred, average='micro')"
      ],
      "execution_count": null,
      "outputs": [
        {
          "output_type": "execute_result",
          "data": {
            "text/plain": [
              "0.4387215203541734"
            ]
          },
          "metadata": {
            "tags": []
          },
          "execution_count": 17
        }
      ]
    },
    {
      "cell_type": "markdown",
      "metadata": {
        "id": "Qd8j0hrfDiAI",
        "colab_type": "text"
      },
      "source": [
        "---\n",
        "> Although the Micro-F1 score of 0.438 looks decent without hyperparameter tuning, but training only 75 Tags alone took more than **3 Hours** which is very costly.\n",
        "Hence terminating Model exploration and restricting to only Logistic Regression.\n",
        "\n",
        "---\n",
        "---"
      ]
    }
  ]
}